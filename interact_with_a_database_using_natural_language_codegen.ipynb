{
  "cells": [
    {
      "cell_type": "code",
      "execution_count": null,
      "metadata": {
        "id": "_LWtoHtKWiTI"
      },
      "outputs": [],
      "source": [
        "# Copyright 2023 Google LLC\n",
        "#\n",
        "# Licensed under the Apache License, Version 2.0 (the \"License\");\n",
        "# you may not use this file except in compliance with the License.\n",
        "# You may obtain a copy of the License at\n",
        "#\n",
        "#     https://www.apache.org/licenses/LICENSE-2.0\n",
        "#\n",
        "# Unless required by applicable law or agreed to in writing, software\n",
        "# distributed under the License is distributed on an \"AS IS\" BASIS,\n",
        "# WITHOUT WARRANTIES OR CONDITIONS OF ANY KIND, either express or implied.\n",
        "# See the License for the specific language governing permissions and\n",
        "# limitations under the License."
      ]
    },
    {
      "cell_type": "markdown",
      "metadata": {
        "id": "koQRNJG_J5HQ"
      },
      "source": [
        "## Interact with SQLite database using natural language\n",
        "\n",
        "<table align=\"left\">\n",
        "\n",
        "  <td>\n",
        "    <a href=\"https://colab.research.google.com/github/GoogleCloudPlatform/generative-ai/blob/main/language/examples/prompt-design/interact_with_a_database_using_natural_language\">\n",
        "      <img src=\"https://cloud.google.com/ml-engine/images/colab-logo-32px.png\" alt=\"Colab logo\"> Run in Colab\n",
        "    </a>\n",
        "  </td>\n",
        "  <td>\n",
        "    <a href=\"https://github.com/GoogleCloudPlatform/generative-ai/blob/main/language/examples/prompt-design/interact_with_a_database_using_natural_language\">\n",
        "      <img src=\"https://cloud.google.com/ml-engine/images/github-logo-32px.png\" alt=\"GitHub logo\">\n",
        "      View on GitHub\n",
        "    </a>\n",
        "  </td>\n",
        "  <td>\n",
        "    <a href=\"https://console.cloud.google.com/vertex-ai/workbench/deploy-notebook?download_url=https://raw.githubusercontent.com/GoogleCloudPlatform/generative-ai/blob/main/language/examples/prompt-design/interact_with_a_database_using_natural_language\">\n",
        "      <img src=\"https://lh3.googleusercontent.com/UiNooY4LUgW_oTvpsNhPpQzsstV5W8F7rYgxgGBD85cWJoLmrOzhVs_ksK_vgx40SHs7jCqkTkCk=e14-rj-sc0xffffff-h130-w32\" alt=\"Vertex AI logo\">\n",
        "      Open in Vertex AI Workbench\n",
        "    </a>\n",
        "  </td>\n",
        "</table>"
      ]
    },
    {
      "cell_type": "markdown",
      "metadata": {
        "id": "ppkn4743IeSX"
      },
      "source": [
        "## Objective\n",
        "\n",
        "This notebook demonstrates how you use natural language text to generate sql queries and execute on a SQLite db.  Our goal is to show the art of the possible and by no means suggest running unvalidated queries on your database. :)"
      ]
    },
    {
      "cell_type": "code",
      "execution_count": null,
      "metadata": {
        "id": "OQEJoFF9WiTM",
        "outputId": "4837343c-9052-46d8-b951-26a07a35d24b"
      },
      "outputs": [
        {
          "name": "stdout",
          "output_type": "stream",
          "text": [
            "Collecting markdown\n",
            "  Downloading Markdown-3.4.3-py3-none-any.whl (93 kB)\n",
            "\u001b[2K     \u001b[90m━━━━━━━━━━━━━━━━━━━━━━━━━━━━━━━━━━━━━━━━\u001b[0m \u001b[32m93.9/93.9 kB\u001b[0m \u001b[31m5.1 MB/s\u001b[0m eta \u001b[36m0:00:00\u001b[0m\n",
            "\u001b[?25hInstalling collected packages: markdown\n",
            "Successfully installed markdown-3.4.3\n"
          ]
        }
      ],
      "source": [
        "!pip install markdown"
      ]
    },
    {
      "cell_type": "code",
      "execution_count": null,
      "metadata": {
        "colab": {
          "base_uri": "https://localhost:8080/",
          "height": 818
        },
        "id": "EsfDh0Ow_85w",
        "outputId": "c0485daf-eeb6-41b9-8987-9e5048393153"
      },
      "outputs": [
        {
          "name": "stdout",
          "output_type": "stream",
          "text": [
            "Requirement already satisfied: google-cloud-aiplatform in /home/jupyter/.local/lib/python3.10/site-packages (1.26.0)\n",
            "Requirement already satisfied: google-api-core[grpc]!=2.0.*,!=2.1.*,!=2.2.*,!=2.3.*,!=2.4.*,!=2.5.*,!=2.6.*,!=2.7.*,<3.0.0dev,>=1.32.0 in /opt/conda/lib/python3.10/site-packages (from google-cloud-aiplatform) (1.34.0)\n",
            "Requirement already satisfied: proto-plus<2.0.0dev,>=1.22.0 in /opt/conda/lib/python3.10/site-packages (from google-cloud-aiplatform) (1.22.2)\n",
            "Requirement already satisfied: protobuf!=3.20.0,!=3.20.1,!=4.21.0,!=4.21.1,!=4.21.2,!=4.21.3,!=4.21.4,!=4.21.5,<5.0.0dev,>=3.19.5 in /opt/conda/lib/python3.10/site-packages (from google-cloud-aiplatform) (3.20.3)\n",
            "Requirement already satisfied: packaging>=14.3 in /opt/conda/lib/python3.10/site-packages (from google-cloud-aiplatform) (23.1)\n",
            "Requirement already satisfied: google-cloud-storage<3.0.0dev,>=1.32.0 in /opt/conda/lib/python3.10/site-packages (from google-cloud-aiplatform) (2.8.0)\n",
            "Requirement already satisfied: google-cloud-bigquery<4.0.0dev,>=1.15.0 in /opt/conda/lib/python3.10/site-packages (from google-cloud-aiplatform) (3.10.0)\n",
            "Requirement already satisfied: google-cloud-resource-manager<3.0.0dev,>=1.3.3 in /opt/conda/lib/python3.10/site-packages (from google-cloud-aiplatform) (1.10.0)\n",
            "Requirement already satisfied: shapely<2.0.0 in /opt/conda/lib/python3.10/site-packages (from google-cloud-aiplatform) (1.8.5.post1)\n",
            "Requirement already satisfied: googleapis-common-protos<2.0dev,>=1.56.2 in /opt/conda/lib/python3.10/site-packages (from google-api-core[grpc]!=2.0.*,!=2.1.*,!=2.2.*,!=2.3.*,!=2.4.*,!=2.5.*,!=2.6.*,!=2.7.*,<3.0.0dev,>=1.32.0->google-cloud-aiplatform) (1.59.0)\n",
            "Requirement already satisfied: google-auth<3.0dev,>=1.25.0 in /opt/conda/lib/python3.10/site-packages (from google-api-core[grpc]!=2.0.*,!=2.1.*,!=2.2.*,!=2.3.*,!=2.4.*,!=2.5.*,!=2.6.*,!=2.7.*,<3.0.0dev,>=1.32.0->google-cloud-aiplatform) (2.17.3)\n",
            "Requirement already satisfied: requests<3.0.0dev,>=2.18.0 in /opt/conda/lib/python3.10/site-packages (from google-api-core[grpc]!=2.0.*,!=2.1.*,!=2.2.*,!=2.3.*,!=2.4.*,!=2.5.*,!=2.6.*,!=2.7.*,<3.0.0dev,>=1.32.0->google-cloud-aiplatform) (2.28.2)\n",
            "Requirement already satisfied: grpcio<2.0dev,>=1.33.2 in /opt/conda/lib/python3.10/site-packages (from google-api-core[grpc]!=2.0.*,!=2.1.*,!=2.2.*,!=2.3.*,!=2.4.*,!=2.5.*,!=2.6.*,!=2.7.*,<3.0.0dev,>=1.32.0->google-cloud-aiplatform) (1.51.3)\n",
            "Requirement already satisfied: grpcio-status<2.0dev,>=1.33.2 in /opt/conda/lib/python3.10/site-packages (from google-api-core[grpc]!=2.0.*,!=2.1.*,!=2.2.*,!=2.3.*,!=2.4.*,!=2.5.*,!=2.6.*,!=2.7.*,<3.0.0dev,>=1.32.0->google-cloud-aiplatform) (1.48.2)\n",
            "Requirement already satisfied: google-cloud-core<3.0.0dev,>=1.6.0 in /opt/conda/lib/python3.10/site-packages (from google-cloud-bigquery<4.0.0dev,>=1.15.0->google-cloud-aiplatform) (2.3.2)\n",
            "Requirement already satisfied: google-resumable-media<3.0dev,>=0.6.0 in /opt/conda/lib/python3.10/site-packages (from google-cloud-bigquery<4.0.0dev,>=1.15.0->google-cloud-aiplatform) (2.5.0)\n",
            "Requirement already satisfied: python-dateutil<3.0dev,>=2.7.2 in /opt/conda/lib/python3.10/site-packages (from google-cloud-bigquery<4.0.0dev,>=1.15.0->google-cloud-aiplatform) (2.8.2)\n",
            "Requirement already satisfied: grpc-google-iam-v1<1.0.0dev,>=0.12.4 in /opt/conda/lib/python3.10/site-packages (from google-cloud-resource-manager<3.0.0dev,>=1.3.3->google-cloud-aiplatform) (0.12.6)\n",
            "Requirement already satisfied: cachetools<6.0,>=2.0.0 in /opt/conda/lib/python3.10/site-packages (from google-auth<3.0dev,>=1.25.0->google-api-core[grpc]!=2.0.*,!=2.1.*,!=2.2.*,!=2.3.*,!=2.4.*,!=2.5.*,!=2.6.*,!=2.7.*,<3.0.0dev,>=1.32.0->google-cloud-aiplatform) (5.3.0)\n",
            "Requirement already satisfied: pyasn1-modules>=0.2.1 in /opt/conda/lib/python3.10/site-packages (from google-auth<3.0dev,>=1.25.0->google-api-core[grpc]!=2.0.*,!=2.1.*,!=2.2.*,!=2.3.*,!=2.4.*,!=2.5.*,!=2.6.*,!=2.7.*,<3.0.0dev,>=1.32.0->google-cloud-aiplatform) (0.3.0)\n",
            "Requirement already satisfied: six>=1.9.0 in /opt/conda/lib/python3.10/site-packages (from google-auth<3.0dev,>=1.25.0->google-api-core[grpc]!=2.0.*,!=2.1.*,!=2.2.*,!=2.3.*,!=2.4.*,!=2.5.*,!=2.6.*,!=2.7.*,<3.0.0dev,>=1.32.0->google-cloud-aiplatform) (1.16.0)\n",
            "Requirement already satisfied: rsa<5,>=3.1.4 in /opt/conda/lib/python3.10/site-packages (from google-auth<3.0dev,>=1.25.0->google-api-core[grpc]!=2.0.*,!=2.1.*,!=2.2.*,!=2.3.*,!=2.4.*,!=2.5.*,!=2.6.*,!=2.7.*,<3.0.0dev,>=1.32.0->google-cloud-aiplatform) (4.9)\n",
            "Requirement already satisfied: google-crc32c<2.0dev,>=1.0 in /opt/conda/lib/python3.10/site-packages (from google-resumable-media<3.0dev,>=0.6.0->google-cloud-bigquery<4.0.0dev,>=1.15.0->google-cloud-aiplatform) (1.5.0)\n",
            "Requirement already satisfied: charset-normalizer<4,>=2 in /opt/conda/lib/python3.10/site-packages (from requests<3.0.0dev,>=2.18.0->google-api-core[grpc]!=2.0.*,!=2.1.*,!=2.2.*,!=2.3.*,!=2.4.*,!=2.5.*,!=2.6.*,!=2.7.*,<3.0.0dev,>=1.32.0->google-cloud-aiplatform) (3.1.0)\n",
            "Requirement already satisfied: idna<4,>=2.5 in /opt/conda/lib/python3.10/site-packages (from requests<3.0.0dev,>=2.18.0->google-api-core[grpc]!=2.0.*,!=2.1.*,!=2.2.*,!=2.3.*,!=2.4.*,!=2.5.*,!=2.6.*,!=2.7.*,<3.0.0dev,>=1.32.0->google-cloud-aiplatform) (3.4)\n",
            "Requirement already satisfied: urllib3<1.27,>=1.21.1 in /opt/conda/lib/python3.10/site-packages (from requests<3.0.0dev,>=2.18.0->google-api-core[grpc]!=2.0.*,!=2.1.*,!=2.2.*,!=2.3.*,!=2.4.*,!=2.5.*,!=2.6.*,!=2.7.*,<3.0.0dev,>=1.32.0->google-cloud-aiplatform) (1.26.15)\n",
            "Requirement already satisfied: certifi>=2017.4.17 in /opt/conda/lib/python3.10/site-packages (from requests<3.0.0dev,>=2.18.0->google-api-core[grpc]!=2.0.*,!=2.1.*,!=2.2.*,!=2.3.*,!=2.4.*,!=2.5.*,!=2.6.*,!=2.7.*,<3.0.0dev,>=1.32.0->google-cloud-aiplatform) (2022.12.7)\n",
            "Requirement already satisfied: pyasn1<0.6.0,>=0.4.6 in /opt/conda/lib/python3.10/site-packages (from pyasn1-modules>=0.2.1->google-auth<3.0dev,>=1.25.0->google-api-core[grpc]!=2.0.*,!=2.1.*,!=2.2.*,!=2.3.*,!=2.4.*,!=2.5.*,!=2.6.*,!=2.7.*,<3.0.0dev,>=1.32.0->google-cloud-aiplatform) (0.5.0)\n"
          ]
        }
      ],
      "source": [
        "!pip install google-cloud-aiplatform --upgrade --user"
      ]
    },
    {
      "cell_type": "code",
      "execution_count": null,
      "metadata": {
        "id": "JdgitdgZ7Q26"
      },
      "outputs": [],
      "source": [
        "import sqlite3\n",
        "from datetime import datetime, timedelta\n",
        "import random\n",
        "from google.cloud import aiplatform\n",
        "import markdown\n",
        "from vertexai.preview.language_models import CodeGenerationModel"
      ]
    },
    {
      "cell_type": "code",
      "execution_count": null,
      "metadata": {
        "id": "iqeme_ji-baQ"
      },
      "outputs": [],
      "source": [
        "DATABASE = 'ecommerce.db'\n",
        "PROJECT_ID = \"\"",
        "LOCATION = \"us-central1\""
      ]
    },
    {
      "cell_type": "code",
      "execution_count": null,
      "metadata": {
        "id": "SxVq3SS4AKI_",
        "outputId": "b485b8a3-e372-4b45-8514-f6ede614dec5"
      },
      "outputs": [
        {
          "ename": "ModuleNotFoundError",
          "evalue": "No module named 'google.colab'",
          "output_type": "error",
          "traceback": [
            "\u001b[0;31m---------------------------------------------------------------------------\u001b[0m",
            "\u001b[0;31mModuleNotFoundError\u001b[0m                       Traceback (most recent call last)",
            "Cell \u001b[0;32mIn[3], line 2\u001b[0m\n\u001b[1;32m      1\u001b[0m \u001b[38;5;66;03m# Authenticate with Google Cloud credentials for Google colab\u001b[39;00m\n\u001b[0;32m----> 2\u001b[0m \u001b[38;5;28;01mfrom\u001b[39;00m \u001b[38;5;21;01mgoogle\u001b[39;00m\u001b[38;5;21;01m.\u001b[39;00m\u001b[38;5;21;01mcolab\u001b[39;00m \u001b[38;5;28;01mimport\u001b[39;00m auth \u001b[38;5;28;01mas\u001b[39;00m google_auth\n\u001b[1;32m      3\u001b[0m google_auth\u001b[38;5;241m.\u001b[39mauthenticate_user()\n",
            "\u001b[0;31mModuleNotFoundError\u001b[0m: No module named 'google.colab'"
          ]
        }
      ],
      "source": [
        "# Authenticate with Google Cloud credentials for Google colab\n",
        "from google.colab import auth as google_auth\n",
        "google_auth.authenticate_user()"
      ]
    },
    {
      "cell_type": "code",
      "execution_count": null,
      "metadata": {
        "id": "51H8vZOrAZVq"
      },
      "outputs": [],
      "source": [
        "aiplatform.init(project=PROJECT_ID, location=LOCATION)"
      ]
    },
    {
      "cell_type": "markdown",
      "metadata": {
        "id": "c1dUnu4SKsbV"
      },
      "source": [
        "### 1. Create a dummy database and insert dummy records"
      ]
    },
    {
      "cell_type": "code",
      "execution_count": null,
      "metadata": {
        "id": "WGbiR-NY-Jd1"
      },
      "outputs": [],
      "source": [
        "def create_db(database):\n",
        "\n",
        "    # Connect to the database (creates a new database if it doesn't exist)\n",
        "    conn = sqlite3.connect(database)\n",
        "\n",
        "    # Create a cursor object to execute SQL commands\n",
        "    cursor = conn.cursor()\n",
        "\n",
        "    # Create a table called \"users\"\n",
        "    cursor.execute('''\n",
        "        CREATE TABLE users (\n",
        "            id INTEGER PRIMARY KEY,\n",
        "            name TEXT,\n",
        "            age INTEGER,\n",
        "            email TEXT\n",
        "        )\n",
        "    ''')\n",
        "\n",
        "    # Create a table called \"products\"\n",
        "    cursor.execute('''\n",
        "        CREATE TABLE products (\n",
        "            id INTEGER PRIMARY KEY,\n",
        "            name TEXT,\n",
        "            price REAL\n",
        "        )\n",
        "    ''')\n",
        "\n",
        "    # Create a table called \"reviews\"\n",
        "    cursor.execute('''\n",
        "        CREATE TABLE reviews (\n",
        "            id INTEGER PRIMARY KEY,\n",
        "            product_id INTEGER,\n",
        "            user_id INTEGER,\n",
        "            rating INTEGER,\n",
        "            comment TEXT,\n",
        "            date_time TEXT,\n",
        "            FOREIGN KEY (product_id) REFERENCES products (id),\n",
        "            FOREIGN KEY (user_id) REFERENCES users (id)\n",
        "        )\n",
        "    ''')"
      ]
    },
    {
      "cell_type": "code",
      "execution_count": null,
      "metadata": {
        "id": "Hu4KsvGg9p0y"
      },
      "outputs": [],
      "source": [
        "def insert_dummy_data(database):\n",
        "\n",
        "    conn = sqlite3.connect(database)\n",
        "    cursor = conn.cursor()\n",
        "\n",
        "    # Insert dummy data into the \"users\" table\n",
        "    users_data = [\n",
        "        (1, 'John Doe', 25, 'john@example.com'),\n",
        "        (2, 'Jane Smith', 32, 'jane@example.com'),\n",
        "        (3, 'Bob Johnson', 35, 'bob@example.com'),\n",
        "        (4, 'Badshah', 40, 'badshah@example.com')\n",
        "    ]\n",
        "    cursor.executemany('INSERT INTO users VALUES (?, ?, ?, ?)', users_data)\n",
        "\n",
        "    # Insert dummy data into the \"products\" table\n",
        "    products_data = [\n",
        "        (1, 'Product A', 9.99),\n",
        "        (2, 'Product B', 19.99),\n",
        "        (3, 'Product C', 14.99)\n",
        "    ]\n",
        "    cursor.executemany('INSERT INTO products VALUES (?, ?, ?)', products_data)\n",
        "\n",
        "    # Insert 10 reviews with random dates in 2023 into the \"reviews\" table\n",
        "    reviews_data = []\n",
        "    start_date = datetime(2022, 1, 1)\n",
        "    for i in range(1, 11):\n",
        "        review_id = i\n",
        "        product_id = random.randint(1, 3)\n",
        "        user_id = random.randint(1, 3)\n",
        "        rating = random.randint(1, 5)\n",
        "        comment = f\"Review {i}\"\n",
        "        random_days = random.randint(0, 364)\n",
        "        review_date = start_date + timedelta(days=random_days)\n",
        "        review_date_string = review_date.strftime('%Y-%m-%d %H:%M:%S')\n",
        "        review_data = (review_id, product_id, user_id, rating, comment, review_date_string)\n",
        "        reviews_data.append(review_data)\n",
        "\n",
        "    cursor.executemany('INSERT INTO reviews VALUES (?, ?, ?, ?, ?, ?)', reviews_data)\n",
        "\n",
        "    # Commit the changes and close the connection\n",
        "    conn.commit()\n",
        "    conn.close()"
      ]
    },
    {
      "cell_type": "code",
      "execution_count": null,
      "metadata": {
        "id": "0w9sQTv9-pSM"
      },
      "outputs": [],
      "source": [
        "create_db(DATABASE)\n",
        "insert_dummy_data(DATABASE)"
      ]
    },
    {
      "cell_type": "code",
      "execution_count": null,
      "metadata": {
        "id": "1jkv16xQ7c9x"
      },
      "outputs": [],
      "source": [
        "def query_db(database, query):\n",
        "\n",
        "    # Connect to the database (creates a new database if it doesn't exist)\n",
        "    conn = sqlite3.connect(database)\n",
        "    cursor = conn.cursor()\n",
        "    cursor.execute(query)\n",
        "    return cursor.fetchall()"
      ]
    },
    {
      "cell_type": "code",
      "execution_count": null,
      "metadata": {
        "colab": {
          "base_uri": "https://localhost:8080/"
        },
        "id": "Hzn9_uwSBfxk",
        "outputId": "7d6f0847-a6c4-4675-919d-7e698b4db195"
      },
      "outputs": [
        {
          "data": {
            "text/plain": [
              "[(1, 'John Doe', 25, 'john@example.com'),\n",
              " (2, 'Jane Smith', 32, 'jane@example.com'),\n",
              " (3, 'Bob Johnson', 35, 'bob@example.com'),\n",
              " (4, 'Badshah', 40, 'badshah@example.com')]"
            ]
          },
          "execution_count": 101,
          "metadata": {},
          "output_type": "execute_result"
        }
      ],
      "source": [
        "# Execute a sample query on the DB.\n",
        "query_db(DATABASE, \"select * from users\")"
      ]
    },
    {
      "cell_type": "markdown",
      "metadata": {
        "id": "2LzBO9n0LHvD"
      },
      "source": [
        "### 2. Use Vertex AI code-bison@001 model to Generate SQL from natural language text."
      ]
    },
    {
      "cell_type": "code",
      "execution_count": null,
      "metadata": {
        "id": "2QBrUzzuWiTQ"
      },
      "outputs": [],
      "source": [
        "def nl_to_sql(prompt):\n",
        "\n",
        "    model = CodeGenerationModel.from_pretrained(\"code-bison@001\")\n",
        "    max_output_tokens =  256\n",
        "    temperature =  0.5\n",
        "\n",
        "    prompt=f'''\n",
        "    Provide sql queries for the question according to the table schema below.\n",
        "\n",
        "    Table: users\n",
        "\n",
        "    Columns:\n",
        "    id INTEGER PRIMARY KEY\n",
        "    name TEXT\n",
        "    age INTEGER,\n",
        "    email TEXT\n",
        "\n",
        "    Table: products\n",
        "\n",
        "    Columns:\n",
        "    id INTEGER PRIMARY KEY,\n",
        "    name TEXT,\n",
        "    price REAL\n",
        "\n",
        "    Table: reviews\n",
        "\n",
        "    Columns:\n",
        "    id INTEGER PRIMARY KEY\n",
        "    product_id INTEGER\n",
        "    user_id INTEGER\n",
        "    rating INTEGER\n",
        "    comment TEXT\n",
        "    date_time TEXT\n",
        "    FOREIGN KEY (product_id) REFERENCES products (id)\n",
        "    FOREIGN KEY (user_id) REFERENCES users (id)\n",
        "    Question: {prompt}\n",
        "\n",
        "    Query:\n",
        "    '''\n",
        "\n",
        "    response = model.predict(\n",
        "        prefix = prompt,\n",
        "        max_output_tokens = max_output_tokens,\n",
        "        temperature = temperature)\n",
        "\n",
        "    return response\n",
        "\n",
        "def markdown_to_sql(markdown_string):\n",
        "  # Convert the Markdown string to a list of lines.\n",
        "  lines = [\" \" if line.startswith(\"```\") else line for line in markdown_string.text.splitlines()]\n",
        "\n",
        "  # Join the lines back together and return the SQL query.\n",
        "  return \" \".join(lines).strip()"
      ]
    },
    {
      "cell_type": "code",
      "execution_count": null,
      "metadata": {
        "colab": {
          "base_uri": "https://localhost:8080/",
          "height": 35
        },
        "id": "AdMQ6X0zBB0-",
        "outputId": "83aeb5f1-883c-4c4b-903c-6b07385b4f9a"
      },
      "outputs": [
        {
          "name": "stdout",
          "output_type": "stream",
          "text": [
            "SELECT COUNT(*) FROM users;\n"
          ]
        }
      ],
      "source": [
        "# Test with a sample prompt\n",
        "prompt =\"Get count of all users\"\n",
        "response = nl_to_sql(prompt)\n",
        "sql_query = markdown_to_sql(response)\n",
        "print(sql_query)"
      ]
    },
    {
      "cell_type": "markdown",
      "metadata": {
        "id": "w-RS2QyfLsPg"
      },
      "source": [
        "### 3. Execute query on the DB and display results"
      ]
    },
    {
      "cell_type": "code",
      "execution_count": null,
      "metadata": {
        "colab": {
          "base_uri": "https://localhost:8080/"
        },
        "id": "c7I31usoEP7M",
        "outputId": "dacd68e3-2308-4523-93ac-d814ef2605c7"
      },
      "outputs": [
        {
          "data": {
            "text/plain": [
              "[(4,)]"
            ]
          },
          "execution_count": 71,
          "metadata": {},
          "output_type": "execute_result"
        }
      ],
      "source": [
        "query_db(DATABASE, sql_query)"
      ]
    },
    {
      "cell_type": "markdown",
      "metadata": {
        "id": "eQzRYe8hL6lw"
      },
      "source": [
        "#### Lets try with more complex queries"
      ]
    },
    {
      "cell_type": "code",
      "execution_count": null,
      "metadata": {
        "colab": {
          "base_uri": "https://localhost:8080/",
          "height": 35
        },
        "id": "pDg47oYBEq6m",
        "outputId": "10042e91-9473-4929-fb0f-8dc75f7f7bcb"
      },
      "outputs": [
        {
          "name": "stdout",
          "output_type": "stream",
          "text": [
            "SELECT count(distinct user_id) FROM reviews;\n"
          ]
        }
      ],
      "source": [
        "prompt =\"Give me count of users who have written atleaset one review\"\n",
        "response = nl_to_sql(prompt)\n",
        "sql_query = markdown_to_sql(response)\n",
        "print(sql_query)"
      ]
    },
    {
      "cell_type": "code",
      "execution_count": null,
      "metadata": {
        "colab": {
          "base_uri": "https://localhost:8080/"
        },
        "id": "o-aSkS7nFoJJ",
        "outputId": "c6c92c45-c14d-4fe7-9845-c0fd1b7d810f"
      },
      "outputs": [
        {
          "data": {
            "text/plain": [
              "[(3,), (2,), (5,)]"
            ]
          },
          "execution_count": 85,
          "metadata": {},
          "output_type": "execute_result"
        }
      ],
      "source": [
        "query_db(DATABASE, sql_query)"
      ]
    },
    {
      "cell_type": "code",
      "execution_count": null,
      "metadata": {
        "colab": {
          "base_uri": "https://localhost:8080/",
          "height": 53
        },
        "id": "uGkgf_q9Fpgu",
        "outputId": "5af171a9-f41a-4c7c-c5b6-f42ace244a66"
      },
      "outputs": [
        {
          "name": "stdout",
          "output_type": "stream",
          "text": [
            "SELECT product_id, AVG(rating) AS average_rating FROM reviews GROUP BY product_id ORDER BY average_rating DESC LIMIT 1;\n"
          ]
        }
      ],
      "source": [
        "prompt =\"Get product with the highest average rating\"\n",
        "response = nl_to_sql(prompt)\n",
        "sql_query = markdown_to_sql(response)\n",
        "print(sql_query)"
      ]
    },
    {
      "cell_type": "code",
      "execution_count": null,
      "metadata": {
        "colab": {
          "base_uri": "https://localhost:8080/"
        },
        "id": "HtuTfWg4FpqO",
        "outputId": "970d9435-03de-46de-ea68-2f370d972f0c"
      },
      "outputs": [
        {
          "data": {
            "text/plain": [
              "[(1, 4.0)]"
            ]
          },
          "execution_count": 78,
          "metadata": {},
          "output_type": "execute_result"
        }
      ],
      "source": [
        "query_db(DATABASE, sql_query)"
      ]
    },
    {
      "cell_type": "code",
      "execution_count": null,
      "metadata": {
        "colab": {
          "base_uri": "https://localhost:8080/",
          "height": 35
        },
        "id": "hVyB1nyHGZ6D",
        "outputId": "69774f2a-d087-41d9-d823-bb6b3215d9bc"
      },
      "outputs": [
        {
          "name": "stdout",
          "output_type": "stream",
          "text": [
            "SELECT products.name, reviews.date_time FROM products JOIN reviews ON products.id = reviews.product_id ORDER BY reviews.date_time DESC LIMIT 1\n"
          ]
        }
      ],
      "source": [
        "prompt =\"Get the product name, date for the most recent review\"\n",
        "response = nl_to_sql(prompt)\n",
        "sql_query = markdown_to_sql(response)\n",
        "print(sql_query)"
      ]
    },
    {
      "cell_type": "code",
      "execution_count": null,
      "metadata": {
        "colab": {
          "base_uri": "https://localhost:8080/"
        },
        "id": "G27a8qAmGevB",
        "outputId": "788bce3c-7175-4d23-dd22-4f5fe761cfa8"
      },
      "outputs": [
        {
          "data": {
            "text/plain": [
              "[('Product C', '2022-11-26 00:00:00')]"
            ]
          },
          "execution_count": 88,
          "metadata": {},
          "output_type": "execute_result"
        }
      ],
      "source": [
        "query_db(DATABASE, sql_query)"
      ]
    },
    {
      "cell_type": "code",
      "source": [
        "prompt =\"What products have an average rating of 4 or higher from users between the ages of 17 and 25?\"\n",
        "response = nl_to_sql(prompt)\n",
        "sql_query = markdown_to_sql(response)\n",
        "print(sql_query)"
      ],
      "metadata": {
        "id": "0tVOG_5FXbbQ"
      },
      "execution_count": null,
      "outputs": []
    },
    {
      "cell_type": "code",
      "source": [
        "query_db(DATABASE, sql_query)"
      ],
      "metadata": {
        "id": "flBICtWsXar_"
      },
      "execution_count": null,
      "outputs": []
    },
    {
      "cell_type": "code",
      "execution_count": null,
      "metadata": {
        "colab": {
          "base_uri": "https://localhost:8080/",
          "height": 35
        },
        "id": "cdn5MtAYGgJx",
        "outputId": "e1462e77-e918-450f-82e6-c10cb36343c2"
      },
      "outputs": [
        {
          "name": "stdout",
          "output_type": "stream",
          "text": [
            "DROP TABLE reviews;\n"
          ]
        }
      ],
      "source": [
        "prompt =\"Drop reviews table\"\n",
        "response = nl_to_sql(prompt)\n",
        "sql_query = markdown_to_sql(response)\n",
        "print(sql_query)"
      ]
    },
    {
      "cell_type": "markdown",
      "metadata": {
        "id": "UJ3hK9NDMsd7"
      },
      "source": [
        "#### If you had executed this query you could have risked data loss. Lets re-write prompt or using prompt engineering to reduce the likelihood of this happening."
      ]
    },
    {
      "cell_type": "markdown",
      "metadata": {
        "id": "yFEMb7mkNnC1"
      },
      "source": [
        "### 4. Let's try to update prompt to reduce likelihood of abuse."
      ]
    },
    {
      "cell_type": "code",
      "execution_count": null,
      "metadata": {
        "id": "PdqLVNo6HSTd"
      },
      "outputs": [],
      "source": [
        "def nl_to_sql(prompt):\n",
        "\n",
        "    model = CodeGenerationModel.from_pretrained(\"code-bison@001\")\n",
        "    max_output_tokens =  256\n",
        "    temperature =  0.5\n",
        "\n",
        "    prompt=f'''\n",
        "    Provide sql queries for the question according to the table schema below.\n",
        "\n",
        "    Table: users\n",
        "\n",
        "    Columns:\n",
        "    id INTEGER PRIMARY KEY\n",
        "    name TEXT\n",
        "    age INTEGER,\n",
        "    email TEXT\n",
        "\n",
        "    Table: products\n",
        "\n",
        "    Columns:\n",
        "    id INTEGER PRIMARY KEY,\n",
        "    name TEXT,\n",
        "    price REAL\n",
        "\n",
        "    Table: reviews\n",
        "\n",
        "    Columns:\n",
        "    id INTEGER PRIMARY KEY\n",
        "    product_id INTEGER\n",
        "    user_id INTEGER\n",
        "    rating INTEGER\n",
        "    comment TEXT\n",
        "    date_time TEXT\n",
        "    FOREIGN KEY (product_id) REFERENCES products (id)\n",
        "    FOREIGN KEY (user_id) REFERENCES users (id)\n",
        "\n",
        "    Remember you cannot respond with queries that modify record, drop or truncate tables instead reply with, Sorry i cannot help with that.\n",
        "\n",
        "    Question: {prompt}\n",
        "\n",
        "    Query:\n",
        "    '''\n",
        "\n",
        "    response = model.predict(\n",
        "        prefix = prompt,\n",
        "        max_output_tokens = max_output_tokens,\n",
        "        temperature = temperature)\n",
        "\n",
        "    return response"
      ]
    },
    {
      "cell_type": "code",
      "execution_count": null,
      "metadata": {
        "colab": {
          "base_uri": "https://localhost:8080/",
          "height": 35
        },
        "id": "Nl2zBlv8HiuO",
        "outputId": "9e918a1d-c1da-44f1-d6dd-4e7f5e0b1569"
      },
      "outputs": [
        {
          "name": "stdout",
          "output_type": "stream",
          "text": [
            "Sorry, I cannot help with that.\n"
          ]
        }
      ],
      "source": [
        "prompt =\"Drop reviews table\"\n",
        "response = nl_to_sql(prompt)\n",
        "sql_query = markdown_to_sql(response)\n",
        "print(sql_query)"
      ]
    },
    {
      "cell_type": "code",
      "execution_count": null,
      "metadata": {
        "colab": {
          "base_uri": "https://localhost:8080/",
          "height": 35
        },
        "id": "527sghZ9HjmH",
        "outputId": "08a9e80d-7f37-42b0-8e7f-4d01dd1546bb"
      },
      "outputs": [
        {
          "name": "stdout",
          "output_type": "stream",
          "text": [
            "Sorry, I cannot help with that.\n"
          ]
        }
      ],
      "source": [
        "prompt =\"Update name of the user with id = 1 to test\"\n",
        "response = nl_to_sql(prompt)\n",
        "sql_query = markdown_to_sql(response)\n",
        "print(sql_query)"
      ]
    }
  ],
  "metadata": {
    "colab": {
      "provenance": []
    },
    "environment": {
      "kernel": "python3",
      "name": "common-cpu.m108",
      "type": "gcloud",
      "uri": "gcr.io/deeplearning-platform-release/base-cpu:m108"
    },
    "kernelspec": {
      "display_name": "Python 3",
      "language": "python",
      "name": "python3"
    },
    "language_info": {
      "codemirror_mode": {
        "name": "ipython",
        "version": 3
      },
      "file_extension": ".py",
      "mimetype": "text/x-python",
      "name": "python",
      "nbconvert_exporter": "python",
      "pygments_lexer": "ipython3",
      "version": "3.10.10"
    }
  },
  "nbformat": 4,
  "nbformat_minor": 0
}
