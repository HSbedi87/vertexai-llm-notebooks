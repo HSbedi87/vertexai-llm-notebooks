{
  "cells": [
    {
      "cell_type": "code",
      "execution_count": null,
      "metadata": {
        "id": "_LWtoHtKWiTI"
      },
      "outputs": [],
      "source": [
        "# Copyright 2023 Google LLC\n",
        "#\n",
        "# Licensed under the Apache License, Version 2.0 (the \"License\");\n",
        "# you may not use this file except in compliance with the License.\n",
        "# You may obtain a copy of the License at\n",
        "#\n",
        "#     https://www.apache.org/licenses/LICENSE-2.0\n",
        "#\n",
        "# Unless required by applicable law or agreed to in writing, software\n",
        "# distributed under the License is distributed on an \"AS IS\" BASIS,\n",
        "# WITHOUT WARRANTIES OR CONDITIONS OF ANY KIND, either express or implied.\n",
        "# See the License for the specific language governing permissions and\n",
        "# limitations under the License."
      ]
    },
    {
      "cell_type": "markdown",
      "metadata": {
        "id": "koQRNJG_J5HQ"
      },
      "source": [
        "## Interact with SQLite database using natural language\n",
        "\n",
        "<table align=\"left\">\n",
        "\n",
        "  <td>\n",
        "    <a href=\"https://colab.research.google.com/github/GoogleCloudPlatform/generative-ai/blob/main/language/examples/prompt-design/interact_with_a_database_using_natural_language\">\n",
        "      <img src=\"https://cloud.google.com/ml-engine/images/colab-logo-32px.png\" alt=\"Colab logo\"> Run in Colab\n",
        "    </a>\n",
        "  </td>\n",
        "  <td>\n",
        "    <a href=\"https://github.com/GoogleCloudPlatform/generative-ai/blob/main/language/examples/prompt-design/interact_with_a_database_using_natural_language\">\n",
        "      <img src=\"https://cloud.google.com/ml-engine/images/github-logo-32px.png\" alt=\"GitHub logo\">\n",
        "      View on GitHub\n",
        "    </a>\n",
        "  </td>\n",
        "  <td>\n",
        "    <a href=\"https://console.cloud.google.com/vertex-ai/workbench/deploy-notebook?download_url=https://raw.githubusercontent.com/GoogleCloudPlatform/generative-ai/blob/main/language/examples/prompt-design/interact_with_a_database_using_natural_language\">\n",
        "      <img src=\"https://lh3.googleusercontent.com/UiNooY4LUgW_oTvpsNhPpQzsstV5W8F7rYgxgGBD85cWJoLmrOzhVs_ksK_vgx40SHs7jCqkTkCk=e14-rj-sc0xffffff-h130-w32\" alt=\"Vertex AI logo\">\n",
        "      Open in Vertex AI Workbench\n",
        "    </a>\n",
        "  </td>\n",
        "</table>"
      ]
    },
    {
      "cell_type": "markdown",
      "metadata": {
        "id": "ppkn4743IeSX"
      },
      "source": [
        "## Objective\n",
        "\n",
        "This notebook demonstrates how you use natural language text to generate sql queries and execute on a SQLite db.  Our goal is to show the art of the possible and by no means suggest running unvalidated queries on your database. :)"
      ]
    },
    {
      "cell_type": "code",
      "execution_count": null,
      "metadata": {
        "id": "OQEJoFF9WiTM",
        "outputId": "4837343c-9052-46d8-b951-26a07a35d24b"
      },
      "outputs": [
        {
          "name": "stdout",
          "output_type": "stream",
          "text": [
            "Collecting markdown\n",
            "  Downloading Markdown-3.4.3-py3-none-any.whl (93 kB)\n",
            "\u001b[2K     \u001b[90m━━━━━━━━━━━━━━━━━━━━━━━━━━━━━━━━━━━━━━━━\u001b[0m \u001b[32m93.9/93.9 kB\u001b[0m \u001b[31m5.1 MB/s\u001b[0m eta \u001b[36m0:00:00\u001b[0m\n",
            "\u001b[?25hInstalling collected packages: markdown\n",
            "Successfully installed markdown-3.4.3\n"
          ]
        }
      ],
      "source": [
        "# !pip install markdown"
      ]
    },
    {
      "cell_type": "code",
      "execution_count": 1,
      "metadata": {
        "colab": {
          "base_uri": "https://localhost:8080/",
          "height": 818
        },
        "id": "EsfDh0Ow_85w",
        "outputId": "e0f06a54-9818-4ffe-8c5e-8fdff613a6ad"
      },
      "outputs": [
        {
          "output_type": "stream",
          "name": "stdout",
          "text": [
            "Looking in indexes: https://pypi.org/simple, https://us-python.pkg.dev/colab-wheels/public/simple/\n",
            "Collecting google-cloud-aiplatform\n",
            "  Downloading google_cloud_aiplatform-1.26.0-py2.py3-none-any.whl (2.6 MB)\n",
            "\u001b[2K     \u001b[90m━━━━━━━━━━━━━━━━━━━━━━━━━━━━━━━━━━━━━━━━\u001b[0m \u001b[32m2.6/2.6 MB\u001b[0m \u001b[31m22.5 MB/s\u001b[0m eta \u001b[36m0:00:00\u001b[0m\n",
            "\u001b[?25hRequirement already satisfied: google-api-core[grpc]!=2.0.*,!=2.1.*,!=2.2.*,!=2.3.*,!=2.4.*,!=2.5.*,!=2.6.*,!=2.7.*,<3.0.0dev,>=1.32.0 in /usr/local/lib/python3.10/dist-packages (from google-cloud-aiplatform) (2.11.0)\n",
            "Requirement already satisfied: proto-plus<2.0.0dev,>=1.22.0 in /usr/local/lib/python3.10/dist-packages (from google-cloud-aiplatform) (1.22.2)\n",
            "Requirement already satisfied: protobuf!=3.20.0,!=3.20.1,!=4.21.0,!=4.21.1,!=4.21.2,!=4.21.3,!=4.21.4,!=4.21.5,<5.0.0dev,>=3.19.5 in /usr/local/lib/python3.10/dist-packages (from google-cloud-aiplatform) (3.20.3)\n",
            "Requirement already satisfied: packaging>=14.3 in /usr/local/lib/python3.10/dist-packages (from google-cloud-aiplatform) (23.1)\n",
            "Requirement already satisfied: google-cloud-storage<3.0.0dev,>=1.32.0 in /usr/local/lib/python3.10/dist-packages (from google-cloud-aiplatform) (2.8.0)\n",
            "Requirement already satisfied: google-cloud-bigquery<4.0.0dev,>=1.15.0 in /usr/local/lib/python3.10/dist-packages (from google-cloud-aiplatform) (3.9.0)\n",
            "Collecting google-cloud-resource-manager<3.0.0dev,>=1.3.3 (from google-cloud-aiplatform)\n",
            "  Downloading google_cloud_resource_manager-1.10.1-py2.py3-none-any.whl (321 kB)\n",
            "\u001b[2K     \u001b[90m━━━━━━━━━━━━━━━━━━━━━━━━━━━━━━━━━━━━━━\u001b[0m \u001b[32m321.3/321.3 kB\u001b[0m \u001b[31m27.7 MB/s\u001b[0m eta \u001b[36m0:00:00\u001b[0m\n",
            "\u001b[?25hCollecting shapely<2.0.0 (from google-cloud-aiplatform)\n",
            "  Downloading Shapely-1.8.5.post1-cp310-cp310-manylinux_2_12_x86_64.manylinux2010_x86_64.whl (2.0 MB)\n",
            "\u001b[2K     \u001b[90m━━━━━━━━━━━━━━━━━━━━━━━━━━━━━━━━━━━━━━━━\u001b[0m \u001b[32m2.0/2.0 MB\u001b[0m \u001b[31m56.7 MB/s\u001b[0m eta \u001b[36m0:00:00\u001b[0m\n",
            "\u001b[?25hRequirement already satisfied: googleapis-common-protos<2.0dev,>=1.56.2 in /usr/local/lib/python3.10/dist-packages (from google-api-core[grpc]!=2.0.*,!=2.1.*,!=2.2.*,!=2.3.*,!=2.4.*,!=2.5.*,!=2.6.*,!=2.7.*,<3.0.0dev,>=1.32.0->google-cloud-aiplatform) (1.59.0)\n",
            "Requirement already satisfied: google-auth<3.0dev,>=2.14.1 in /usr/local/lib/python3.10/dist-packages (from google-api-core[grpc]!=2.0.*,!=2.1.*,!=2.2.*,!=2.3.*,!=2.4.*,!=2.5.*,!=2.6.*,!=2.7.*,<3.0.0dev,>=1.32.0->google-cloud-aiplatform) (2.17.3)\n",
            "Requirement already satisfied: requests<3.0.0dev,>=2.18.0 in /usr/local/lib/python3.10/dist-packages (from google-api-core[grpc]!=2.0.*,!=2.1.*,!=2.2.*,!=2.3.*,!=2.4.*,!=2.5.*,!=2.6.*,!=2.7.*,<3.0.0dev,>=1.32.0->google-cloud-aiplatform) (2.27.1)\n",
            "Requirement already satisfied: grpcio<2.0dev,>=1.33.2 in /usr/local/lib/python3.10/dist-packages (from google-api-core[grpc]!=2.0.*,!=2.1.*,!=2.2.*,!=2.3.*,!=2.4.*,!=2.5.*,!=2.6.*,!=2.7.*,<3.0.0dev,>=1.32.0->google-cloud-aiplatform) (1.54.0)\n",
            "Requirement already satisfied: grpcio-status<2.0dev,>=1.33.2 in /usr/local/lib/python3.10/dist-packages (from google-api-core[grpc]!=2.0.*,!=2.1.*,!=2.2.*,!=2.3.*,!=2.4.*,!=2.5.*,!=2.6.*,!=2.7.*,<3.0.0dev,>=1.32.0->google-cloud-aiplatform) (1.48.2)\n",
            "Requirement already satisfied: google-cloud-core<3.0.0dev,>=1.6.0 in /usr/local/lib/python3.10/dist-packages (from google-cloud-bigquery<4.0.0dev,>=1.15.0->google-cloud-aiplatform) (2.3.2)\n",
            "Requirement already satisfied: google-resumable-media<3.0dev,>=0.6.0 in /usr/local/lib/python3.10/dist-packages (from google-cloud-bigquery<4.0.0dev,>=1.15.0->google-cloud-aiplatform) (2.5.0)\n",
            "Requirement already satisfied: python-dateutil<3.0dev,>=2.7.2 in /usr/local/lib/python3.10/dist-packages (from google-cloud-bigquery<4.0.0dev,>=1.15.0->google-cloud-aiplatform) (2.8.2)\n",
            "Collecting grpc-google-iam-v1<1.0.0dev,>=0.12.4 (from google-cloud-resource-manager<3.0.0dev,>=1.3.3->google-cloud-aiplatform)\n",
            "  Downloading grpc_google_iam_v1-0.12.6-py2.py3-none-any.whl (26 kB)\n",
            "Requirement already satisfied: cachetools<6.0,>=2.0.0 in /usr/local/lib/python3.10/dist-packages (from google-auth<3.0dev,>=2.14.1->google-api-core[grpc]!=2.0.*,!=2.1.*,!=2.2.*,!=2.3.*,!=2.4.*,!=2.5.*,!=2.6.*,!=2.7.*,<3.0.0dev,>=1.32.0->google-cloud-aiplatform) (5.3.0)\n",
            "Requirement already satisfied: pyasn1-modules>=0.2.1 in /usr/local/lib/python3.10/dist-packages (from google-auth<3.0dev,>=2.14.1->google-api-core[grpc]!=2.0.*,!=2.1.*,!=2.2.*,!=2.3.*,!=2.4.*,!=2.5.*,!=2.6.*,!=2.7.*,<3.0.0dev,>=1.32.0->google-cloud-aiplatform) (0.3.0)\n",
            "Requirement already satisfied: six>=1.9.0 in /usr/local/lib/python3.10/dist-packages (from google-auth<3.0dev,>=2.14.1->google-api-core[grpc]!=2.0.*,!=2.1.*,!=2.2.*,!=2.3.*,!=2.4.*,!=2.5.*,!=2.6.*,!=2.7.*,<3.0.0dev,>=1.32.0->google-cloud-aiplatform) (1.16.0)\n",
            "Requirement already satisfied: rsa<5,>=3.1.4 in /usr/local/lib/python3.10/dist-packages (from google-auth<3.0dev,>=2.14.1->google-api-core[grpc]!=2.0.*,!=2.1.*,!=2.2.*,!=2.3.*,!=2.4.*,!=2.5.*,!=2.6.*,!=2.7.*,<3.0.0dev,>=1.32.0->google-cloud-aiplatform) (4.9)\n",
            "Requirement already satisfied: google-crc32c<2.0dev,>=1.0 in /usr/local/lib/python3.10/dist-packages (from google-resumable-media<3.0dev,>=0.6.0->google-cloud-bigquery<4.0.0dev,>=1.15.0->google-cloud-aiplatform) (1.5.0)\n",
            "Requirement already satisfied: urllib3<1.27,>=1.21.1 in /usr/local/lib/python3.10/dist-packages (from requests<3.0.0dev,>=2.18.0->google-api-core[grpc]!=2.0.*,!=2.1.*,!=2.2.*,!=2.3.*,!=2.4.*,!=2.5.*,!=2.6.*,!=2.7.*,<3.0.0dev,>=1.32.0->google-cloud-aiplatform) (1.26.15)\n",
            "Requirement already satisfied: certifi>=2017.4.17 in /usr/local/lib/python3.10/dist-packages (from requests<3.0.0dev,>=2.18.0->google-api-core[grpc]!=2.0.*,!=2.1.*,!=2.2.*,!=2.3.*,!=2.4.*,!=2.5.*,!=2.6.*,!=2.7.*,<3.0.0dev,>=1.32.0->google-cloud-aiplatform) (2022.12.7)\n",
            "Requirement already satisfied: charset-normalizer~=2.0.0 in /usr/local/lib/python3.10/dist-packages (from requests<3.0.0dev,>=2.18.0->google-api-core[grpc]!=2.0.*,!=2.1.*,!=2.2.*,!=2.3.*,!=2.4.*,!=2.5.*,!=2.6.*,!=2.7.*,<3.0.0dev,>=1.32.0->google-cloud-aiplatform) (2.0.12)\n",
            "Requirement already satisfied: idna<4,>=2.5 in /usr/local/lib/python3.10/dist-packages (from requests<3.0.0dev,>=2.18.0->google-api-core[grpc]!=2.0.*,!=2.1.*,!=2.2.*,!=2.3.*,!=2.4.*,!=2.5.*,!=2.6.*,!=2.7.*,<3.0.0dev,>=1.32.0->google-cloud-aiplatform) (3.4)\n",
            "Requirement already satisfied: pyasn1<0.6.0,>=0.4.6 in /usr/local/lib/python3.10/dist-packages (from pyasn1-modules>=0.2.1->google-auth<3.0dev,>=2.14.1->google-api-core[grpc]!=2.0.*,!=2.1.*,!=2.2.*,!=2.3.*,!=2.4.*,!=2.5.*,!=2.6.*,!=2.7.*,<3.0.0dev,>=1.32.0->google-cloud-aiplatform) (0.5.0)\n",
            "Installing collected packages: shapely, grpc-google-iam-v1, google-cloud-resource-manager, google-cloud-aiplatform\n",
            "\u001b[33m  WARNING: The script tb-gcp-uploader is installed in '/root/.local/bin' which is not on PATH.\n",
            "  Consider adding this directory to PATH or, if you prefer to suppress this warning, use --no-warn-script-location.\u001b[0m\u001b[33m\n",
            "\u001b[0mSuccessfully installed google-cloud-aiplatform-1.26.0 google-cloud-resource-manager-1.10.1 grpc-google-iam-v1-0.12.6 shapely-1.8.5.post1\n"
          ]
        },
        {
          "output_type": "display_data",
          "data": {
            "application/vnd.colab-display-data+json": {
              "pip_warning": {
                "packages": [
                  "google"
                ]
              }
            }
          },
          "metadata": {}
        }
      ],
      "source": [
        "!pip install google-cloud-aiplatform --upgrade --user"
      ]
    },
    {
      "cell_type": "code",
      "execution_count": 1,
      "metadata": {
        "id": "JdgitdgZ7Q26"
      },
      "outputs": [],
      "source": [
        "import sqlite3\n",
        "from datetime import datetime, timedelta\n",
        "import random\n",
        "from google.cloud import aiplatform\n",
        "from vertexai.preview.language_models import CodeGenerationModel"
      ]
    },
    {
      "cell_type": "code",
      "execution_count": 2,
      "metadata": {
        "id": "iqeme_ji-baQ"
      },
      "outputs": [],
      "source": [
        "DATABASE = 'ecommerce.db'\n",
        "PROJECT_ID = '' # Add project id here\n",
        "LOCATION = \"us-central1\""
      ]
    },
    {
      "cell_type": "code",
      "execution_count": 3,
      "metadata": {
        "id": "SxVq3SS4AKI_"
      },
      "outputs": [],
      "source": [
        "# Authenticate with Google Cloud credentials for Google colab\n",
        "from google.colab import auth as google_auth\n",
        "google_auth.authenticate_user()"
      ]
    },
    {
      "cell_type": "code",
      "execution_count": 4,
      "metadata": {
        "id": "51H8vZOrAZVq"
      },
      "outputs": [],
      "source": [
        "aiplatform.init(project=PROJECT_ID, location=LOCATION)"
      ]
    },
    {
      "cell_type": "markdown",
      "metadata": {
        "id": "c1dUnu4SKsbV"
      },
      "source": [
        "### 1. Create a dummy database and insert dummy records"
      ]
    },
    {
      "cell_type": "code",
      "execution_count": 5,
      "metadata": {
        "id": "WGbiR-NY-Jd1"
      },
      "outputs": [],
      "source": [
        "def create_db(database):\n",
        "\n",
        "    # Connect to the database (creates a new database if it doesn't exist)\n",
        "    conn = sqlite3.connect(database)\n",
        "\n",
        "    # Create a cursor object to execute SQL commands\n",
        "    cursor = conn.cursor()\n",
        "\n",
        "    # Create a table called \"users\"\n",
        "    cursor.execute('''\n",
        "        CREATE TABLE users (\n",
        "            id INTEGER PRIMARY KEY,\n",
        "            name TEXT,\n",
        "            age INTEGER,\n",
        "            email TEXT\n",
        "        )\n",
        "    ''')\n",
        "\n",
        "    # Create a table called \"products\"\n",
        "    cursor.execute('''\n",
        "        CREATE TABLE products (\n",
        "            id INTEGER PRIMARY KEY,\n",
        "            name TEXT,\n",
        "            price REAL\n",
        "        )\n",
        "    ''')\n",
        "\n",
        "    # Create a table called \"reviews\"\n",
        "    cursor.execute('''\n",
        "        CREATE TABLE reviews (\n",
        "            id INTEGER PRIMARY KEY,\n",
        "            product_id INTEGER,\n",
        "            user_id INTEGER,\n",
        "            rating INTEGER,\n",
        "            comment TEXT,\n",
        "            date_time TEXT,\n",
        "            FOREIGN KEY (product_id) REFERENCES products (id),\n",
        "            FOREIGN KEY (user_id) REFERENCES users (id)\n",
        "        )\n",
        "    ''')"
      ]
    },
    {
      "cell_type": "code",
      "execution_count": 6,
      "metadata": {
        "id": "Hu4KsvGg9p0y"
      },
      "outputs": [],
      "source": [
        "def insert_dummy_data(database):\n",
        "\n",
        "    conn = sqlite3.connect(database)\n",
        "    cursor = conn.cursor()\n",
        "\n",
        "    # Insert dummy data into the \"users\" table\n",
        "    users_data = [\n",
        "        (1, 'John Doe', 25, 'john@example.com'),\n",
        "        (2, 'Jane Smith', 32, 'jane@example.com'),\n",
        "        (3, 'Bob Johnson', 35, 'bob@example.com'),\n",
        "        (4, 'Badshah', 40, 'badshah@example.com')\n",
        "    ]\n",
        "    cursor.executemany('INSERT INTO users VALUES (?, ?, ?, ?)', users_data)\n",
        "\n",
        "    # Insert dummy data into the \"products\" table\n",
        "    products_data = [\n",
        "        (1, 'Product A', 9.99),\n",
        "        (2, 'Product B', 19.99),\n",
        "        (3, 'Product C', 14.99)\n",
        "    ]\n",
        "    cursor.executemany('INSERT INTO products VALUES (?, ?, ?)', products_data)\n",
        "\n",
        "    # Insert 10 reviews with random dates in 2023 into the \"reviews\" table\n",
        "    reviews_data = []\n",
        "    start_date = datetime(2022, 1, 1)\n",
        "    for i in range(1, 11):\n",
        "        review_id = i\n",
        "        product_id = random.randint(1, 3)\n",
        "        user_id = random.randint(1, 3)\n",
        "        rating = random.randint(1, 5)\n",
        "        comment = f\"Review {i}\"\n",
        "        random_days = random.randint(0, 364)\n",
        "        review_date = start_date + timedelta(days=random_days)\n",
        "        review_date_string = review_date.strftime('%Y-%m-%d %H:%M:%S')\n",
        "        review_data = (review_id, product_id, user_id, rating, comment, review_date_string)\n",
        "        reviews_data.append(review_data)\n",
        "\n",
        "    cursor.executemany('INSERT INTO reviews VALUES (?, ?, ?, ?, ?, ?)', reviews_data)\n",
        "\n",
        "    # Commit the changes and close the connection\n",
        "    conn.commit()\n",
        "    conn.close()"
      ]
    },
    {
      "cell_type": "code",
      "execution_count": 7,
      "metadata": {
        "id": "0w9sQTv9-pSM"
      },
      "outputs": [],
      "source": [
        "create_db(DATABASE)\n",
        "insert_dummy_data(DATABASE)"
      ]
    },
    {
      "cell_type": "code",
      "execution_count": 8,
      "metadata": {
        "id": "1jkv16xQ7c9x"
      },
      "outputs": [],
      "source": [
        "def query_db(database, query):\n",
        "\n",
        "    # Connect to the database (creates a new database if it doesn't exist)\n",
        "    conn = sqlite3.connect(database)\n",
        "    cursor = conn.cursor()\n",
        "    cursor.execute(query)\n",
        "    return cursor.fetchall()"
      ]
    },
    {
      "cell_type": "code",
      "execution_count": 9,
      "metadata": {
        "colab": {
          "base_uri": "https://localhost:8080/"
        },
        "id": "Hzn9_uwSBfxk",
        "outputId": "d1a76ca5-d447-41c5-ce59-7231bc730954"
      },
      "outputs": [
        {
          "output_type": "execute_result",
          "data": {
            "text/plain": [
              "[(1, 'John Doe', 25, 'john@example.com'),\n",
              " (2, 'Jane Smith', 32, 'jane@example.com'),\n",
              " (3, 'Bob Johnson', 35, 'bob@example.com'),\n",
              " (4, 'Badshah', 40, 'badshah@example.com')]"
            ]
          },
          "metadata": {},
          "execution_count": 9
        }
      ],
      "source": [
        "# Execute a sample query on the DB.\n",
        "query_db(DATABASE, \"select * from users\")"
      ]
    },
    {
      "cell_type": "markdown",
      "metadata": {
        "id": "2LzBO9n0LHvD"
      },
      "source": [
        "### 2. Use Vertex AI code-bison@001 model to Generate SQL from natural language text."
      ]
    },
    {
      "cell_type": "code",
      "execution_count": 10,
      "metadata": {
        "id": "2QBrUzzuWiTQ"
      },
      "outputs": [],
      "source": [
        "def nl_to_sql(prompt):\n",
        "\n",
        "    model = CodeGenerationModel.from_pretrained(\"code-bison@001\")\n",
        "    max_output_tokens =  256\n",
        "    temperature =  0.5\n",
        "\n",
        "    prompt=f'''\n",
        "    Provide sql queries for the question according to the table schema below.\n",
        "\n",
        "    Table: users\n",
        "\n",
        "    Columns:\n",
        "    id INTEGER PRIMARY KEY\n",
        "    name TEXT\n",
        "    age INTEGER,\n",
        "    email TEXT\n",
        "\n",
        "    Table: products\n",
        "\n",
        "    Columns:\n",
        "    id INTEGER PRIMARY KEY,\n",
        "    name TEXT,\n",
        "    price REAL\n",
        "\n",
        "    Table: reviews\n",
        "\n",
        "    Columns:\n",
        "    id INTEGER PRIMARY KEY\n",
        "    product_id INTEGER\n",
        "    user_id INTEGER\n",
        "    rating INTEGER\n",
        "    comment TEXT\n",
        "    date_time TEXT\n",
        "    FOREIGN KEY (product_id) REFERENCES products (id)\n",
        "    FOREIGN KEY (user_id) REFERENCES users (id)\n",
        "    Question: {prompt}\n",
        "\n",
        "    Query:\n",
        "    '''\n",
        "\n",
        "    response = model.predict(\n",
        "        prefix = prompt,\n",
        "        max_output_tokens = max_output_tokens,\n",
        "        temperature = temperature)\n",
        "\n",
        "    return response\n",
        "\n",
        "def markdown_to_sql(markdown_string):\n",
        "  # Convert the Markdown string to a list of lines.\n",
        "  lines = [\" \" if line.startswith(\"```\") else line for line in markdown_string.text.splitlines()]\n",
        "\n",
        "  # Join the lines back together and return the SQL query.\n",
        "  return \" \".join(lines).strip()"
      ]
    },
    {
      "cell_type": "code",
      "execution_count": 11,
      "metadata": {
        "colab": {
          "base_uri": "https://localhost:8080/"
        },
        "id": "AdMQ6X0zBB0-",
        "outputId": "776090d6-1e7a-4a00-c756-ed72c5296a67"
      },
      "outputs": [
        {
          "output_type": "stream",
          "name": "stdout",
          "text": [
            "SELECT COUNT(*) FROM users;\n"
          ]
        }
      ],
      "source": [
        "# Test with a sample prompt\n",
        "prompt =\"Get count of all users\"\n",
        "response = nl_to_sql(prompt)\n",
        "sql_query = markdown_to_sql(response)\n",
        "print(sql_query)"
      ]
    },
    {
      "cell_type": "markdown",
      "metadata": {
        "id": "w-RS2QyfLsPg"
      },
      "source": [
        "### 3. Execute query on the DB and display results"
      ]
    },
    {
      "cell_type": "code",
      "execution_count": 12,
      "metadata": {
        "colab": {
          "base_uri": "https://localhost:8080/"
        },
        "id": "c7I31usoEP7M",
        "outputId": "e2ef3746-5485-4e43-cc25-97c7d388fc1f"
      },
      "outputs": [
        {
          "output_type": "execute_result",
          "data": {
            "text/plain": [
              "[(4,)]"
            ]
          },
          "metadata": {},
          "execution_count": 12
        }
      ],
      "source": [
        "query_db(DATABASE, sql_query)"
      ]
    },
    {
      "cell_type": "markdown",
      "metadata": {
        "id": "eQzRYe8hL6lw"
      },
      "source": [
        "#### Lets try with more complex queries"
      ]
    },
    {
      "cell_type": "code",
      "execution_count": 13,
      "metadata": {
        "colab": {
          "base_uri": "https://localhost:8080/"
        },
        "id": "pDg47oYBEq6m",
        "outputId": "8c7baadc-6413-48bf-a84f-cae415be6901"
      },
      "outputs": [
        {
          "output_type": "stream",
          "name": "stdout",
          "text": [
            "SELECT count(distinct user_id) FROM reviews;\n"
          ]
        }
      ],
      "source": [
        "prompt =\"Give me count of users who have written atleaset one review\"\n",
        "response = nl_to_sql(prompt)\n",
        "sql_query = markdown_to_sql(response)\n",
        "print(sql_query)"
      ]
    },
    {
      "cell_type": "code",
      "execution_count": 14,
      "metadata": {
        "colab": {
          "base_uri": "https://localhost:8080/"
        },
        "id": "o-aSkS7nFoJJ",
        "outputId": "59ff1ff1-e9a2-4181-a2dc-25db4fc8265b"
      },
      "outputs": [
        {
          "output_type": "execute_result",
          "data": {
            "text/plain": [
              "[(3,)]"
            ]
          },
          "metadata": {},
          "execution_count": 14
        }
      ],
      "source": [
        "query_db(DATABASE, sql_query)"
      ]
    },
    {
      "cell_type": "code",
      "execution_count": 15,
      "metadata": {
        "colab": {
          "base_uri": "https://localhost:8080/"
        },
        "id": "uGkgf_q9Fpgu",
        "outputId": "45cfaf6a-2d62-4e82-a50f-d6413fea87c9"
      },
      "outputs": [
        {
          "output_type": "stream",
          "name": "stdout",
          "text": [
            "SELECT product_id, AVG(rating) AS average_rating FROM reviews GROUP BY product_id ORDER BY average_rating DESC LIMIT 1;\n"
          ]
        }
      ],
      "source": [
        "prompt =\"Get product with the highest average rating\"\n",
        "response = nl_to_sql(prompt)\n",
        "sql_query = markdown_to_sql(response)\n",
        "print(sql_query)"
      ]
    },
    {
      "cell_type": "code",
      "execution_count": 16,
      "metadata": {
        "colab": {
          "base_uri": "https://localhost:8080/"
        },
        "id": "HtuTfWg4FpqO",
        "outputId": "8f1a2c9a-3b14-40ad-f7ba-241afab7f426"
      },
      "outputs": [
        {
          "output_type": "execute_result",
          "data": {
            "text/plain": [
              "[(2, 4.5)]"
            ]
          },
          "metadata": {},
          "execution_count": 16
        }
      ],
      "source": [
        "query_db(DATABASE, sql_query)"
      ]
    },
    {
      "cell_type": "code",
      "execution_count": 17,
      "metadata": {
        "colab": {
          "base_uri": "https://localhost:8080/"
        },
        "id": "hVyB1nyHGZ6D",
        "outputId": "048e2c0a-d622-40c4-f546-cfb71b8216aa"
      },
      "outputs": [
        {
          "output_type": "stream",
          "name": "stdout",
          "text": [
            "SELECT p.name, r.date_time FROM products AS p JOIN reviews AS r ON p.id = r.product_id ORDER BY r.date_time DESC LIMIT 1;\n"
          ]
        }
      ],
      "source": [
        "prompt =\"Get the product name, date for the most recent review\"\n",
        "response = nl_to_sql(prompt)\n",
        "sql_query = markdown_to_sql(response)\n",
        "print(sql_query)"
      ]
    },
    {
      "cell_type": "code",
      "execution_count": 18,
      "metadata": {
        "colab": {
          "base_uri": "https://localhost:8080/"
        },
        "id": "G27a8qAmGevB",
        "outputId": "e6c6e83d-9517-40b6-a31e-a5dff8ed9bde"
      },
      "outputs": [
        {
          "output_type": "execute_result",
          "data": {
            "text/plain": [
              "[('Product B', '2022-12-29 00:00:00')]"
            ]
          },
          "metadata": {},
          "execution_count": 18
        }
      ],
      "source": [
        "query_db(DATABASE, sql_query)"
      ]
    },
    {
      "cell_type": "code",
      "source": [
        "prompt =\"What products have an average rating of 4 or higher from users between the ages of 17 and 25?\"\n",
        "response = nl_to_sql(prompt)\n",
        "sql_query = markdown_to_sql(response)\n",
        "print(sql_query)"
      ],
      "metadata": {
        "colab": {
          "base_uri": "https://localhost:8080/"
        },
        "id": "0tVOG_5FXbbQ",
        "outputId": "c6af05ea-3d33-486b-ba07-954afb180a9b"
      },
      "execution_count": 19,
      "outputs": [
        {
          "output_type": "stream",
          "name": "stdout",
          "text": [
            "SELECT   product_id FROM   reviews WHERE   user_id IN (     SELECT       id     FROM       users     WHERE       age BETWEEN 17 AND 25   ) GROUP BY   product_id HAVING   AVG(rating) >= 4\n"
          ]
        }
      ]
    },
    {
      "cell_type": "code",
      "source": [
        "query_db(DATABASE, sql_query)"
      ],
      "metadata": {
        "colab": {
          "base_uri": "https://localhost:8080/"
        },
        "id": "flBICtWsXar_",
        "outputId": "044fdb04-80d8-4275-edd9-61aaa9cc3d0c"
      },
      "execution_count": 20,
      "outputs": [
        {
          "output_type": "execute_result",
          "data": {
            "text/plain": [
              "[]"
            ]
          },
          "metadata": {},
          "execution_count": 20
        }
      ]
    },
    {
      "cell_type": "code",
      "execution_count": 22,
      "metadata": {
        "colab": {
          "base_uri": "https://localhost:8080/"
        },
        "id": "cdn5MtAYGgJx",
        "outputId": "4f2ca900-699e-4325-ce0c-cf6551b4265d"
      },
      "outputs": [
        {
          "output_type": "stream",
          "name": "stdout",
          "text": [
            "DROP TABLE reviews;\n"
          ]
        }
      ],
      "source": [
        "prompt =\"Drop reviews table\"\n",
        "response = nl_to_sql(prompt)\n",
        "sql_query = markdown_to_sql(response)\n",
        "print(sql_query)"
      ]
    },
    {
      "cell_type": "markdown",
      "metadata": {
        "id": "UJ3hK9NDMsd7"
      },
      "source": [
        "#### If you had executed this query you could have risked data loss. Lets re-write prompt or using prompt engineering to reduce the likelihood of this happening."
      ]
    },
    {
      "cell_type": "markdown",
      "metadata": {
        "id": "yFEMb7mkNnC1"
      },
      "source": [
        "### 4. Let's try to update prompt to reduce likelihood of abuse."
      ]
    },
    {
      "cell_type": "code",
      "execution_count": 23,
      "metadata": {
        "id": "PdqLVNo6HSTd"
      },
      "outputs": [],
      "source": [
        "def nl_to_sql(prompt):\n",
        "\n",
        "    model = CodeGenerationModel.from_pretrained(\"code-bison@001\")\n",
        "    max_output_tokens =  256\n",
        "    temperature =  0.5\n",
        "\n",
        "    prompt=f'''\n",
        "    Provide sql queries for the question according to the table schema below.\n",
        "\n",
        "    Table: users\n",
        "\n",
        "    Columns:\n",
        "    id INTEGER PRIMARY KEY\n",
        "    name TEXT\n",
        "    age INTEGER,\n",
        "    email TEXT\n",
        "\n",
        "    Table: products\n",
        "\n",
        "    Columns:\n",
        "    id INTEGER PRIMARY KEY,\n",
        "    name TEXT,\n",
        "    price REAL\n",
        "\n",
        "    Table: reviews\n",
        "\n",
        "    Columns:\n",
        "    id INTEGER PRIMARY KEY\n",
        "    product_id INTEGER\n",
        "    user_id INTEGER\n",
        "    rating INTEGER\n",
        "    comment TEXT\n",
        "    date_time TEXT\n",
        "    FOREIGN KEY (product_id) REFERENCES products (id)\n",
        "    FOREIGN KEY (user_id) REFERENCES users (id)\n",
        "\n",
        "    Remember you cannot respond with queries that modify record, drop or truncate tables instead reply with, Sorry i cannot help with that.\n",
        "\n",
        "    Question: {prompt}\n",
        "\n",
        "    Query:\n",
        "    '''\n",
        "\n",
        "    response = model.predict(\n",
        "        prefix = prompt,\n",
        "        max_output_tokens = max_output_tokens,\n",
        "        temperature = temperature)\n",
        "\n",
        "    return response"
      ]
    },
    {
      "cell_type": "code",
      "execution_count": 24,
      "metadata": {
        "colab": {
          "base_uri": "https://localhost:8080/"
        },
        "id": "Nl2zBlv8HiuO",
        "outputId": "63afe5ff-47bc-4d31-8034-320df2090a3d"
      },
      "outputs": [
        {
          "output_type": "stream",
          "name": "stdout",
          "text": [
            "Sorry, I cannot help with that.\n"
          ]
        }
      ],
      "source": [
        "prompt =\"Drop reviews table\"\n",
        "response = nl_to_sql(prompt)\n",
        "sql_query = markdown_to_sql(response)\n",
        "print(sql_query)"
      ]
    },
    {
      "cell_type": "code",
      "execution_count": 25,
      "metadata": {
        "colab": {
          "base_uri": "https://localhost:8080/"
        },
        "id": "527sghZ9HjmH",
        "outputId": "caa218d2-466a-44f2-9712-b9ac6c5962b7"
      },
      "outputs": [
        {
          "output_type": "stream",
          "name": "stdout",
          "text": [
            "Sorry, I cannot help with that.\n"
          ]
        }
      ],
      "source": [
        "prompt =\"Update name of the user with id = 1 to test\"\n",
        "response = nl_to_sql(prompt)\n",
        "sql_query = markdown_to_sql(response)\n",
        "print(sql_query)"
      ]
    },
    {
      "cell_type": "code",
      "source": [],
      "metadata": {
        "id": "G7Xsvd7Fv7g1"
      },
      "execution_count": null,
      "outputs": []
    }
  ],
  "metadata": {
    "colab": {
      "provenance": []
    },
    "environment": {
      "kernel": "python3",
      "name": "common-cpu.m108",
      "type": "gcloud",
      "uri": "gcr.io/deeplearning-platform-release/base-cpu:m108"
    },
    "kernelspec": {
      "display_name": "Python 3",
      "language": "python",
      "name": "python3"
    },
    "language_info": {
      "codemirror_mode": {
        "name": "ipython",
        "version": 3
      },
      "file_extension": ".py",
      "mimetype": "text/x-python",
      "name": "python",
      "nbconvert_exporter": "python",
      "pygments_lexer": "ipython3",
      "version": "3.10.10"
    }
  },
  "nbformat": 4,
  "nbformat_minor": 0
}