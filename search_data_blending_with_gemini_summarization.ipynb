{
  "cells": [
    {
      "cell_type": "code",
      "execution_count": null,
      "id": "ed4aa0ff-dce1-42c3-bb68-31de7752841c",
      "metadata": {
        "id": "ed4aa0ff-dce1-42c3-bb68-31de7752841c"
      },
      "outputs": [],
      "source": [
        "# Copyright 2024 Google LLC\n",
        "#\n",
        "# Licensed under the Apache License, Version 2.0 (the \"License\");\n",
        "# you may not use this file except in compliance with the License.\n",
        "# You may obtain a copy of the License at\n",
        "#\n",
        "#     https://www.apache.org/licenses/LICENSE-2.0\n",
        "#\n",
        "# Unless required by applicable law or agreed to in writing, software\n",
        "# distributed under the License is distributed on an \"AS IS\" BASIS,\n",
        "# WITHOUT WARRANTIES OR CONDITIONS OF ANY KIND, either express or implied.\n",
        "# See the License for the specific language governing permissions and\n",
        "# limitations under the License."
      ]
    },
    {
      "cell_type": "markdown",
      "id": "df13176e-8d3d-4d6f-a265-91a0fb44695c",
      "metadata": {
        "tags": [],
        "id": "df13176e-8d3d-4d6f-a265-91a0fb44695c"
      },
      "source": [
        "# Getting Started with the Vertex AI Gemini API & Python SDK\n",
        "\n",
        "<table align=\"left\">\n",
        "  <td style=\"text-align: center\">\n",
        "    <a href=\"https://colab.research.google.com/github/GoogleCloudPlatform/generative-ai/blob/main/search/search_data_blending_with_gemini_summarization.ipynb\">\n",
        "      <img src=\"https://cloud.google.com/ml-engine/images/colab-logo-32px.png\" alt=\"Google Colaboratory logo\"><br> Run in Colab\n",
        "    </a>\n",
        "  </td>\n",
        "  <td style=\"text-align: center\">\n",
        "    <a href=\"https://console.cloud.google.com/vertex-ai/colab/import/https:%2F%2Fraw.githubusercontent.com%2FGoogleCloudPlatform%2Fgenerative-ai%2Fmain%2Fsearch%2Fsearch_data_blending_with_gemini_summarization.ipynb\">\n",
        "      <img width=\"32px\" src=\"https://lh3.googleusercontent.com/JmcxdQi-qOpctIvWKgPtrzZdJJK-J3sWE1RsfjZNwshCFgE_9fULcNpuXYTilIR2hjwN\" alt=\"Google Cloud Colab Enterprise logo\"><br> Run in Colab Enterprise\n",
        "    </a>\n",
        "  </td>    \n",
        "  <td style=\"text-align: center\">\n",
        "    <a href=\"https://github.com/GoogleCloudPlatform/generative-ai/blob/main/search/search_data_blending_with_gemini_summarization.ipynb\">\n",
        "      <img src=\"https://cloud.google.com/ml-engine/images/github-logo-32px.png\" alt=\"GitHub logo\"><br> View on GitHub\n",
        "    </a>\n",
        "  </td>\n",
        "  <td style=\"text-align: center\">\n",
        "    <a href=\"https://console.cloud.google.com/vertex-ai/workbench/deploy-notebook?download_url=https://raw.githubusercontent.com/GoogleCloudPlatform/generative-ai/blob/main/search/search_data_blending_with_gemini_summarization.ipynb\">\n",
        "      <img src=\"https://lh3.googleusercontent.com/UiNooY4LUgW_oTvpsNhPpQzsstV5W8F7rYgxgGBD85cWJoLmrOzhVs_ksK_vgx40SHs7jCqkTkCk=e14-rj-sc0xffffff-h130-w32\" alt=\"Vertex AI logo\"><br> Open in Vertex AI Workbench\n",
        "    </a>\n",
        "  </td>\n",
        "</table>\n"
      ]
    },
    {
      "cell_type": "markdown",
      "id": "c03164e3-b49e-4b6f-bada-ee3c4a9ef8cb",
      "metadata": {
        "tags": [],
        "id": "c03164e3-b49e-4b6f-bada-ee3c4a9ef8cb"
      },
      "source": [
        "## Overview\n",
        "\n",
        "### Search\n",
        "Vertex AI Search brings together the power of deep information retrieval, state-of-the-art natural language processing, and the latest in large language processing to understand user intent and return the most relevant results for the user.\n",
        "\n",
        "With Vertex AI Search, you can create apps for searching and for making recommendations. Vertex AI Search also has special capabilities for some industries, such as media, healthcare, and retail.\n",
        "\n",
        "\n",
        "\n",
        "### Gemini\n",
        "\n",
        "Gemini is a family of generative AI models developed by Google DeepMind that is designed for multimodal use cases. The Gemini API gives you access to the Gemini Pro and Gemini Pro Vision models.\n",
        "\n",
        "### Vertex AI Gemini API\n",
        "\n",
        "The Vertex AI Gemini API provides a unified interface for interacting with Gemini models. There are two Gemini 1.0 Pro models available in the Gemini API:\n",
        "\n",
        "- **Gemini 1.0 Pro model** (`gemini-1.0-pro`): Designed to handle natural language tasks, multi-turn text and code chat, and code generation.\n",
        ".\n",
        "\n",
        "You can interact with the Gemini API using the following methods:\n",
        "\n",
        "- Use [Vertex AI Studio](https://cloud.google.com/generative-ai-studio) for quick testing and command generation\n",
        "- Use cURL commands\n",
        "- Use the Vertex AI SDK\n",
        "\n",
        "For more information, see the [Generative AI on Vertex AI](https://cloud.google.com/vertex-ai/docs/generative-ai/learn/overview) documentation.\n",
        "\n",
        "This tutorial explains how to call a search app with mixed datastore, get search snippets and summarize the response using Gemini Pro.\n"
      ]
    },
    {
      "cell_type": "markdown",
      "id": "4f2112dc-6f63-414e-bf79-eb262752a248",
      "metadata": {
        "id": "4f2112dc-6f63-414e-bf79-eb262752a248"
      },
      "source": [
        "### Create a Search App with Mixed Datastores"
      ]
    },
    {
      "cell_type": "markdown",
      "id": "c9251ab7-4a41-4a7e-b675-3822308c50f8",
      "metadata": {
        "id": "c9251ab7-4a41-4a7e-b675-3822308c50f8"
      },
      "source": [
        "1. Follow the steps listed here to create a Search App\n",
        "   - https://cloud.google.com/generative-ai-app-builder/docs/create-engine-es\n",
        "2. Create the relevant data stores (GCS, BQ, Website)\n",
        "   - https://cloud.google.com/generative-ai-app-builder/docs/create-data-store-es\n",
        "3. Link the data stores to the Search App\n",
        "   - https://cloud.google.com/generative-ai-app-builder/docs/create-data-store-es#multi-data-stores\n",
        "\n",
        "The example query and results are based on the data used in this tutorial:\n",
        "   - https://cloud.google.com/generative-ai-app-builder/docs/try-enterprise-search"
      ]
    },
    {
      "cell_type": "markdown",
      "id": "3ab58f9f-ceba-4eea-8ac0-5fbd36eac78d",
      "metadata": {
        "id": "3ab58f9f-ceba-4eea-8ac0-5fbd36eac78d"
      },
      "source": [
        "### Install the Relevant packages"
      ]
    },
    {
      "cell_type": "code",
      "execution_count": null,
      "id": "739fb52f-7ca7-4fdc-993b-c8b88fdec713",
      "metadata": {
        "tags": [],
        "colab": {
          "base_uri": "https://localhost:8080/"
        },
        "id": "739fb52f-7ca7-4fdc-993b-c8b88fdec713",
        "outputId": "3392bc7b-6ecd-4b61-f8e1-a727aff0ceac"
      },
      "outputs": [
        {
          "output_type": "stream",
          "name": "stdout",
          "text": [
            "\u001b[2K     \u001b[90m━━━━━━━━━━━━━━━━━━━━━━━━━━━━━━━━━━━━━━━━\u001b[0m \u001b[32m1.5/1.5 MB\u001b[0m \u001b[31m9.1 MB/s\u001b[0m eta \u001b[36m0:00:00\u001b[0m\n",
            "\u001b[?25h"
          ]
        }
      ],
      "source": [
        "%pip install --upgrade --user -q google-cloud-aiplatform google-cloud-discoveryengine"
      ]
    },
    {
      "cell_type": "markdown",
      "id": "514726d9-6ca2-4270-bd0a-417ba5fba471",
      "metadata": {
        "id": "514726d9-6ca2-4270-bd0a-417ba5fba471"
      },
      "source": [
        "### Restart current runtime\n",
        "\n",
        "To use the newly installed packages in this Jupyter runtime, you must restart the runtime. You can do this by running the cell below, which will restart the current kernel."
      ]
    },
    {
      "cell_type": "code",
      "execution_count": null,
      "id": "b382f165-1003-4eb2-94ef-23a646d22f4c",
      "metadata": {
        "id": "b382f165-1003-4eb2-94ef-23a646d22f4c"
      },
      "outputs": [],
      "source": [
        "# Restart kernel after installs so that your environment can access the new packages\n",
        "import IPython\n",
        "\n",
        "app = IPython.Application.instance()\n",
        "app.kernel.do_shutdown(True)"
      ]
    },
    {
      "cell_type": "markdown",
      "id": "de665d59-bada-491f-9264-cf12cac2146e",
      "metadata": {
        "id": "de665d59-bada-491f-9264-cf12cac2146e"
      },
      "source": [
        "### Authenticate your notebook environment (Colab only)\n",
        "\n",
        "If you are running this notebook on Google Colab, run the following cell to authenticate your environment. This step is not required if you are using [Vertex AI Workbench](https://cloud.google.com/vertex-ai-workbench).\n"
      ]
    },
    {
      "cell_type": "code",
      "execution_count": null,
      "id": "ccfd1c99-2440-41d3-b087-a30c321d71ee",
      "metadata": {
        "id": "ccfd1c99-2440-41d3-b087-a30c321d71ee"
      },
      "outputs": [],
      "source": [
        "import sys\n",
        "\n",
        "# Additional authentication is required for Google Colab\n",
        "if \"google.colab\" in sys.modules:\n",
        "    # Authenticate user to Google Cloud\n",
        "    from google.colab import auth\n",
        "\n",
        "    auth.authenticate_user()"
      ]
    },
    {
      "cell_type": "markdown",
      "id": "17c7b4fb-fdfc-4900-8de3-2943f51bf007",
      "metadata": {
        "id": "17c7b4fb-fdfc-4900-8de3-2943f51bf007"
      },
      "source": [
        "### Define Google Cloud project information"
      ]
    },
    {
      "cell_type": "code",
      "execution_count": null,
      "id": "379ae518-563b-4bf0-a1fc-b2b121414cec",
      "metadata": {
        "id": "379ae518-563b-4bf0-a1fc-b2b121414cec"
      },
      "outputs": [],
      "source": [
        "PROJECT_ID = \"\"  # @param {type:\"string\"}\n",
        "SEARCH_APP_LOCATION = \"global\"  # @param {type:\"string\"}\n",
        "SEARCH_ENGINE_ID = \"\"  # @param {type:\"string\"}\n",
        "LOCATION_GEMINI_MODEL = \"us-central1\"  # @param {type:\"string\"}"
      ]
    },
    {
      "cell_type": "markdown",
      "id": "544cd6ec",
      "metadata": {
        "id": "544cd6ec"
      },
      "source": [
        "### Initialize the Vertex AI SDK"
      ]
    },
    {
      "cell_type": "code",
      "execution_count": null,
      "id": "0df206a8",
      "metadata": {
        "id": "0df206a8"
      },
      "outputs": [],
      "source": [
        "import vertexai\n",
        "\n",
        "vertexai.init(project=PROJECT_ID, location=LOCATION_GEMINI_MODEL)"
      ]
    },
    {
      "cell_type": "markdown",
      "id": "de73be91-7a1c-4df5-bf08-3a447b158a57",
      "metadata": {
        "tags": [],
        "id": "de73be91-7a1c-4df5-bf08-3a447b158a57"
      },
      "source": [
        "### Import the Relevant packages"
      ]
    },
    {
      "cell_type": "code",
      "execution_count": null,
      "id": "052f7cf3-f34f-402c-a08b-978130e18cf8",
      "metadata": {
        "tags": [],
        "id": "052f7cf3-f34f-402c-a08b-978130e18cf8"
      },
      "outputs": [],
      "source": [
        "from typing import List\n",
        "import re\n",
        "\n",
        "from google.api_core.client_options import ClientOptions\n",
        "from google.cloud import discoveryengine_v1alpha as discoveryengine\n",
        "\n",
        "from vertexai.generative_models import (\n",
        "    GenerativeModel,\n",
        "    GenerationConfig,\n",
        "    HarmCategory,\n",
        "    HarmBlockThreshold,\n",
        ")"
      ]
    },
    {
      "cell_type": "markdown",
      "id": "d96ed5da-e479-4270-8169-ba534a2a2550",
      "metadata": {
        "id": "d96ed5da-e479-4270-8169-ba534a2a2550"
      },
      "source": [
        "### Send a Request to Vertex AI Search App with Data Blending (Mixed Datastore)\n",
        "\n",
        "- https://cloud.google.com/generative-ai-app-builder/docs/create-data-store-es#multi-data-stores"
      ]
    },
    {
      "cell_type": "code",
      "execution_count": null,
      "id": "55e9ccbf",
      "metadata": {
        "id": "55e9ccbf"
      },
      "outputs": [],
      "source": [
        "search_query = \"What was Google cloud's revenue in Q4 2020?\""
      ]
    },
    {
      "cell_type": "code",
      "execution_count": null,
      "id": "5cdad7a5",
      "metadata": {
        "id": "5cdad7a5"
      },
      "outputs": [],
      "source": [
        "# Create a client using a regional endpoint\n",
        "client = discoveryengine.SearchServiceClient(\n",
        "    client_options=(\n",
        "        ClientOptions(\n",
        "            api_endpoint=f\"{SEARCH_APP_LOCATION}-discoveryengine.googleapis.com\"\n",
        "        )\n",
        "        if SEARCH_APP_LOCATION != \"global\"\n",
        "        else None\n",
        "    )\n",
        ")\n",
        "\n",
        "# The full resource name of the search app serving config\n",
        "serving_config = f\"projects/{PROJECT_ID}/locations/{SEARCH_APP_LOCATION}/collections/default_collection/engines/{SEARCH_ENGINE_ID}/servingConfigs/default_config\"\n",
        "\n",
        "\n",
        "\n",
        "response = client.search(\n",
        "    discoveryengine.SearchRequest(\n",
        "        serving_config=serving_config,\n",
        "        query=search_query,\n",
        "        page_size=5,\n",
        "    )\n",
        ")"
      ]
    },
    {
      "cell_type": "markdown",
      "id": "a4a5be18",
      "metadata": {
        "id": "a4a5be18"
      },
      "source": [
        "### Extract & clean up snippets from search results\n"
      ]
    },
    {
      "cell_type": "code",
      "source": [
        "response"
      ],
      "metadata": {
        "colab": {
          "base_uri": "https://localhost:8080/"
        },
        "id": "yjPP6c9B55Yi",
        "outputId": "7c176101-d5c6-456e-88f3-f8fd5a3ca311"
      },
      "id": "yjPP6c9B55Yi",
      "execution_count": null,
      "outputs": [
        {
          "output_type": "execute_result",
          "data": {
            "text/plain": [
              "SearchPager<results {\n",
              "  id: \"217e8bedecfe08e3c43f5b289af15243\"\n",
              "  document {\n",
              "    name: \"projects/9452062936/locations/global/collections/default_collection/dataStores/google-financials_1710902168241/branches/0/documents/217e8bedecfe08e3c43f5b289af15243\"\n",
              "    id: \"217e8bedecfe08e3c43f5b289af15243\"\n",
              "    derived_struct_data {\n",
              "      fields {\n",
              "        key: \"extractive_answers\"\n",
              "        value {\n",
              "          list_value {\n",
              "            values {\n",
              "              struct_value {\n",
              "                fields {\n",
              "                  key: \"content\"\n",
              "                  value {\n",
              "                    string_value: \"Google succeeds when we help our customers and partners succeed, and we see significant opportunities to forge meaningful partnerships as businesses increasingly look to a digital future.\\342\\200\\235 Ruth Porat, CFO of Google and Alphabet, said: \\342\\200\\234Our strong fourth quarter performance, with revenues of $56.9 billion, was driven by Search and YouTube, as consumer and business activity recovered from earlier in the year.\"\n",
              "                  }\n",
              "                }\n",
              "                fields {\n",
              "                  key: \"pageNumber\"\n",
              "                  value {\n",
              "                    string_value: \"1\"\n",
              "                  }\n",
              "                }\n",
              "              }\n",
              "            }\n",
              "          }\n",
              "        }\n",
              "      }\n",
              "      fields {\n",
              "        key: \"link\"\n",
              "        value {\n",
              "          string_value: \"gs://cloud-samples-data/gen-app-builder/search/alphabet-investor-pdfs/2020Q4_alphabet_earnings_release.pdf\"\n",
              "        }\n",
              "      }\n",
              "      fields {\n",
              "        key: \"title\"\n",
              "        value {\n",
              "          string_value: \"GOOG Exhibit 99.1 Q4\\'20\"\n",
              "        }\n",
              "      }\n",
              "    }\n",
              "  }\n",
              "}\n",
              "results {\n",
              "  id: \"772b0d0199005155b0155eacd898eae8\"\n",
              "  document {\n",
              "    name: \"projects/9452062936/locations/global/collections/default_collection/dataStores/google-financials_1710902168241/branches/0/documents/772b0d0199005155b0155eacd898eae8\"\n",
              "    id: \"772b0d0199005155b0155eacd898eae8\"\n",
              "    derived_struct_data {\n",
              "      fields {\n",
              "        key: \"extractive_answers\"\n",
              "        value {\n",
              "          list_value {\n",
              "            values {\n",
              "              struct_value {\n",
              "                fields {\n",
              "                  key: \"content\"\n",
              "                  value {\n",
              "                    string_value: \"Year Ended December 31, 2019 2020 Google Search &amp; other $ 98115 $ 104062 YouTube ads 15149 19772 Google Network Members&#39; properties 21547 23090 Google advertising 134811 146924 Google other 17014 21711 Google Services total 151825 168635 Google Cloud 8918 13059 Other Bets 659 657 Hedging gains (losses) 455 176 Total revenues $ 161857 $ 182527 Google Services Google advertising revenues Our advertising revenue growth, as well as the change in paid clicks and cost-per-click on Google Search &amp; other properties and the change in impressions and cost-per-impression on Google Network Members&#39; properties and the correlation between these items, have been affected and may continue to be affected by various factors, including: \\342\\200\\242 advertiser competition for keywords; \\342\\200\\242 changes in advertising quality, formats, delivery or policy; Table of Contents Alphabet Inc. 33.\"\n",
              "                  }\n",
              "                }\n",
              "                fields {\n",
              "                  key: \"pageNumber\"\n",
              "                  value {\n",
              "                    string_value: \"34\"\n",
              "                  }\n",
              "                }\n",
              "              }\n",
              "            }\n",
              "          }\n",
              "        }\n",
              "      }\n",
              "      fields {\n",
              "        key: \"link\"\n",
              "        value {\n",
              "          string_value: \"gs://cloud-samples-data/gen-app-builder/search/alphabet-investor-pdfs/20210203_alphabet_10K.pdf\"\n",
              "        }\n",
              "      }\n",
              "      fields {\n",
              "        key: \"title\"\n",
              "        value {\n",
              "          string_value: \"GOOG 10-K Q4 2020\"\n",
              "        }\n",
              "      }\n",
              "    }\n",
              "  }\n",
              "}\n",
              "results {\n",
              "  id: \"6b54401a15ed256af6c224a022afabde\"\n",
              "  document {\n",
              "    name: \"projects/9452062936/locations/global/collections/default_collection/dataStores/google-financials_1710902168241/branches/0/documents/6b54401a15ed256af6c224a022afabde\"\n",
              "    id: \"6b54401a15ed256af6c224a022afabde\"\n",
              "    derived_struct_data {\n",
              "      fields {\n",
              "        key: \"extractive_answers\"\n",
              "        value {\n",
              "          list_value {\n",
              "            values {\n",
              "              struct_value {\n",
              "                fields {\n",
              "                  key: \"content\"\n",
              "                  value {\n",
              "                    string_value: \"Google Cloud Google Cloud revenues increased $6.1 billion from 2020 to 2021. The growth was primarily driven by GCP followed by Google Workspace offerings. Google Cloud&#39;s infrastructure and platform services were the largest drivers of growth in GCP. Revenues by Geography The following table presents revenues by geography as a percentage of revenues, determined based on the addresses of our customers: Year Ended December 31, 2020 2021 United States 47 % 46 % EMEA 30 % 31 % APAC 18 % 18 % Other Americas 5 % 5 % For further details on revenues by geography, see Note 2 of the Notes to Consolidated Financial Statements included in Item 8 of this Annual Report on Form 10-K.\"\n",
              "                  }\n",
              "                }\n",
              "                fields {\n",
              "                  key: \"pageNumber\"\n",
              "                  value {\n",
              "                    string_value: \"36\"\n",
              "                  }\n",
              "                }\n",
              "              }\n",
              "            }\n",
              "          }\n",
              "        }\n",
              "      }\n",
              "      fields {\n",
              "        key: \"link\"\n",
              "        value {\n",
              "          string_value: \"gs://cloud-samples-data/gen-app-builder/search/alphabet-investor-pdfs/20220202_alphabet_10K.pdf\"\n",
              "        }\n",
              "      }\n",
              "      fields {\n",
              "        key: \"title\"\n",
              "        value {\n",
              "          string_value: \"GOOG 10-K Q4 2021\"\n",
              "        }\n",
              "      }\n",
              "    }\n",
              "  }\n",
              "}\n",
              "results {\n",
              "  id: \"402b45d21795df17d081b1a191fc83c1\"\n",
              "  document {\n",
              "    name: \"projects/9452062936/locations/global/collections/default_collection/dataStores/google-financials_1710902168241/branches/0/documents/402b45d21795df17d081b1a191fc83c1\"\n",
              "    id: \"402b45d21795df17d081b1a191fc83c1\"\n",
              "    derived_struct_data {\n",
              "      fields {\n",
              "        key: \"extractive_answers\"\n",
              "        value {\n",
              "          list_value {\n",
              "            values {\n",
              "              struct_value {\n",
              "                fields {\n",
              "                  key: \"content\"\n",
              "                  value {\n",
              "                    string_value: \"In terms of Google Services costs, TAC was $13.4 billion, up 28%. Google Services Operating income was $26.0 billion, up 36%, and the operating margin was 37%. Turning to the Google Cloud segment, revenues were <b>$5.5 billion</b> for the fourth quarter, up 45%.\"\n",
              "                  }\n",
              "                }\n",
              "                fields {\n",
              "                  key: \"pageNumber\"\n",
              "                  value {\n",
              "                    string_value: \"7\"\n",
              "                  }\n",
              "                }\n",
              "              }\n",
              "            }\n",
              "          }\n",
              "        }\n",
              "      }\n",
              "      fields {\n",
              "        key: \"link\"\n",
              "        value {\n",
              "          string_value: \"gs://cloud-samples-data/gen-app-builder/search/alphabet-investor-pdfs/2021_Q4_Earnings_Transcript.pdf\"\n",
              "        }\n",
              "      }\n",
              "      fields {\n",
              "        key: \"title\"\n",
              "        value {\n",
              "          string_value: \"2021_Q4_Earnings_Transcript\"\n",
              "        }\n",
              "      }\n",
              "    }\n",
              "  }\n",
              "}\n",
              "results {\n",
              "  id: \"404cb139d857b704a13ee3d8e0c6c5fb\"\n",
              "  document {\n",
              "    name: \"projects/9452062936/locations/global/collections/default_collection/dataStores/google-financials_1710902168241/branches/0/documents/404cb139d857b704a13ee3d8e0c6c5fb\"\n",
              "    id: \"404cb139d857b704a13ee3d8e0c6c5fb\"\n",
              "    derived_struct_data {\n",
              "      fields {\n",
              "        key: \"extractive_answers\"\n",
              "        value {\n",
              "          list_value {\n",
              "            values {\n",
              "              struct_value {\n",
              "                fields {\n",
              "                  key: \"content\"\n",
              "                  value {\n",
              "                    string_value: \"Segment results The following table presents our revenues and operating income (loss) (in millions; unaudited): Quarter Ended December 31, 2020 2021 Revenues: Google Services $ 52873 $ 69400 Google Cloud 3831 5541 Other Bets 196 181 Hedging gains (losses) (2) 203 Total revenues $ 56898 $ 75325 Quarter Ended December 31, 2020 2021 Operating income (loss): Google Services $ 19066 $ 25993 Google Cloud (1243) (890) Other Bets (1136) (1450) Corporate costs, unallocated (1036) (1768) Total income from operations $ 15651 $ 21885 We report our segment results as Google Services, Google Cloud, and Other Bets: \\342\\200\\242 Google Services includes products and services such as ads, Android, Chrome, hardware, Google Maps, Google Play, Search, and YouTube.\"\n",
              "                  }\n",
              "                }\n",
              "                fields {\n",
              "                  key: \"pageNumber\"\n",
              "                  value {\n",
              "                    string_value: \"9\"\n",
              "                  }\n",
              "                }\n",
              "              }\n",
              "            }\n",
              "          }\n",
              "        }\n",
              "      }\n",
              "      fields {\n",
              "        key: \"link\"\n",
              "        value {\n",
              "          string_value: \"gs://cloud-samples-data/gen-app-builder/search/alphabet-investor-pdfs/2021Q4_alphabet_earnings_release.pdf\"\n",
              "        }\n",
              "      }\n",
              "      fields {\n",
              "        key: \"title\"\n",
              "        value {\n",
              "          string_value: \"GOOG Exhibit 99.1 Q4 2021\"\n",
              "        }\n",
              "      }\n",
              "    }\n",
              "  }\n",
              "}\n",
              "total_size: 49\n",
              "attribution_token: \"e_B6CgwI6rPprwYQg5fMiwESJDY1ZjdiZGU2LTAwMDAtMmY5ZC1iOGIwLTU4MjQyOWNiNzk1YyIHR0VORVJJQyo85O2ILY6-nRXej5oigLKaIpD3pyLn7Ygt1LKdFbe3jC2jgJciwvCeFY33pyLbj5oit5mhIsbL8xeDspoi\"\n",
              "next_page_token: \"wY1kzNiNWOyQjM4UTLwIGOi1CZ5YmMtADMwATL1UGZidjZ1YDJaEQjbGc2QYwr5zp6IwgE1EgC\"\n",
              "guided_search_result {\n",
              "}\n",
              "summary {\n",
              "}\n",
              ">"
            ]
          },
          "metadata": {},
          "execution_count": 52
        }
      ]
    },
    {
      "cell_type": "code",
      "execution_count": null,
      "id": "0093a8b5",
      "metadata": {
        "colab": {
          "base_uri": "https://localhost:8080/"
        },
        "id": "0093a8b5",
        "outputId": "6fa6cf4b-7376-4075-a2e6-e5af66f56d14"
      },
      "outputs": [
        {
          "output_type": "stream",
          "name": "stdout",
          "text": [
            "<proto.marshal.collections.maps.MapComposite object at 0x788422d71150>\n",
            "<proto.marshal.collections.maps.MapComposite object at 0x788422d71720>\n",
            "<proto.marshal.collections.maps.MapComposite object at 0x788422d72020>\n",
            "<proto.marshal.collections.maps.MapComposite object at 0x788422d727a0>\n",
            "<proto.marshal.collections.maps.MapComposite object at 0x788422d72110>\n"
          ]
        }
      ],
      "source": [
        "retrieved_data: List[str] = []\n",
        "\n",
        "for result in response.results:\n",
        "    data = result.document.derived_struct_data\n",
        "    print(data)\n",
        "    if not data:\n",
        "        continue\n",
        "\n",
        "\n",
        "\n",
        "    snippets: List[str] = [\n",
        "        re.sub(\"<[^>]*>\", \"\", snippet_item.get(\"content\", \"\"))\n",
        "        for snippet_item in data.get(\"extractive_answers\", [])\n",
        "        if snippet_item.get(\"content\")\n",
        "    ]\n",
        "\n",
        "\n",
        "\n",
        "    # snippets: List[str] = [\n",
        "    #     re.sub(\"<[^>]*>\", \"\", snippet_item.get(\"snippet\", \"\"))\n",
        "    #     for snippet_item in data.get(\"snippets\", [])\n",
        "    #     if snippet_item.get(\"snippet\")\n",
        "    # ]\n",
        "\n",
        "    if snippets:\n",
        "        title = data.get(\"title\", \"Unknown Title\")\n",
        "        retrieved_data.append(\n",
        "            f\"--- Snippets from Document {title} ---\\n{''.join(snippets)}\\n\"\n",
        "        )"
      ]
    },
    {
      "cell_type": "markdown",
      "id": "a8fc8d60-be4a-4831-8330-4c0470f85c3c",
      "metadata": {
        "id": "a8fc8d60-be4a-4831-8330-4c0470f85c3c"
      },
      "source": [
        "### Feed the Search result snippets to Gemini Pro model and formuate a summary/response based on your original prompt"
      ]
    },
    {
      "cell_type": "markdown",
      "id": "c414262d-ae7b-4c49-9dba-d56e2681e865",
      "metadata": {
        "tags": [],
        "id": "c414262d-ae7b-4c49-9dba-d56e2681e865"
      },
      "source": [
        "#### Model parameters\n",
        "\n",
        "Every prompt you send to the model includes parameter values that control how the model generates a response.\n",
        "\n",
        "The model can generate different results for different parameter values.\n",
        "\n",
        "You can experiment with different model parameters to see how the results change.\n"
      ]
    },
    {
      "cell_type": "code",
      "execution_count": null,
      "id": "0f197649-9204-4bf2-be8e-36c3ebcfce42",
      "metadata": {
        "tags": [],
        "id": "0f197649-9204-4bf2-be8e-36c3ebcfce42"
      },
      "outputs": [],
      "source": [
        "generation_config = GenerationConfig(\n",
        "    temperature=0,\n",
        "    top_p=1.0,\n",
        "    max_output_tokens=2048,\n",
        ")"
      ]
    },
    {
      "cell_type": "code",
      "execution_count": null,
      "id": "42950f35-7b64-4c7d-9ce3-3bbeb8224c9e",
      "metadata": {
        "tags": [],
        "colab": {
          "base_uri": "https://localhost:8080/"
        },
        "id": "42950f35-7b64-4c7d-9ce3-3bbeb8224c9e",
        "outputId": "6d8352cc-54a5-4acc-fa94-ade3ea99e4f8"
      },
      "outputs": [
        {
          "output_type": "stream",
          "name": "stdout",
          "text": [
            "PROMPT:\n",
            "Provide an answer to the question based on the information in the Document snippets provided with citations.\n",
            "Question: What was Google cloud's revenue in Q4 2020?\n",
            "--- Snippets from Document GOOG Exhibit 99.1 Q4'20 ---\n",
            "Google succeeds when we help our customers and partners succeed, and we see significant opportunities to forge meaningful partnerships as businesses increasingly look to a digital future.” Ruth Porat, CFO of Google and Alphabet, said: “Our strong fourth quarter performance, with revenues of $56.9 billion, was driven by Search and YouTube, as consumer and business activity recovered from earlier in the year.\n",
            "--- Snippets from Document GOOG 10-K Q4 2020 ---\n",
            "Year Ended December 31, 2019 2020 Google Search &amp; other $ 98115 $ 104062 YouTube ads 15149 19772 Google Network Members&#39; properties 21547 23090 Google advertising 134811 146924 Google other 17014 21711 Google Services total 151825 168635 Google Cloud 8918 13059 Other Bets 659 657 Hedging gains (losses) 455 176 Total revenues $ 161857 $ 182527 Google Services Google advertising revenues Our advertising revenue growth, as well as the change in paid clicks and cost-per-click on Google Search &amp; other properties and the change in impressions and cost-per-impression on Google Network Members&#39; properties and the correlation between these items, have been affected and may continue to be affected by various factors, including: • advertiser competition for keywords; • changes in advertising quality, formats, delivery or policy; Table of Contents Alphabet Inc. 33.\n",
            "--- Snippets from Document GOOG 10-K Q4 2021 ---\n",
            "Google Cloud Google Cloud revenues increased $6.1 billion from 2020 to 2021. The growth was primarily driven by GCP followed by Google Workspace offerings. Google Cloud&#39;s infrastructure and platform services were the largest drivers of growth in GCP. Revenues by Geography The following table presents revenues by geography as a percentage of revenues, determined based on the addresses of our customers: Year Ended December 31, 2020 2021 United States 47 % 46 % EMEA 30 % 31 % APAC 18 % 18 % Other Americas 5 % 5 % For further details on revenues by geography, see Note 2 of the Notes to Consolidated Financial Statements included in Item 8 of this Annual Report on Form 10-K.\n",
            "--- Snippets from Document 2021_Q4_Earnings_Transcript ---\n",
            "In terms of Google Services costs, TAC was $13.4 billion, up 28%. Google Services Operating income was $26.0 billion, up 36%, and the operating margin was 37%. Turning to the Google Cloud segment, revenues were $5.5 billion for the fourth quarter, up 45%.\n",
            "--- Snippets from Document GOOG Exhibit 99.1 Q4 2021 ---\n",
            "Segment results The following table presents our revenues and operating income (loss) (in millions; unaudited): Quarter Ended December 31, 2020 2021 Revenues: Google Services $ 52873 $ 69400 Google Cloud 3831 5541 Other Bets 196 181 Hedging gains (losses) (2) 203 Total revenues $ 56898 $ 75325 Quarter Ended December 31, 2020 2021 Operating income (loss): Google Services $ 19066 $ 25993 Google Cloud (1243) (890) Other Bets (1136) (1450) Corporate costs, unallocated (1036) (1768) Total income from operations $ 15651 $ 21885 We report our segment results as Google Services, Google Cloud, and Other Bets: • Google Services includes products and services such as ads, Android, Chrome, hardware, Google Maps, Google Play, Search, and YouTube.\n",
            "\n",
            "\n",
            "Gemini Response:\n",
            "\n",
            "Google Cloud's revenue in Q4 2020 was $3.831 billion. (Source: GOOG Exhibit 99.1 Q4 2021)"
          ]
        }
      ],
      "source": [
        "# Prompt for Gemini Pro model\n",
        "PROMPT_GEMINI = f\"\"\"Provide an answer to the question based on the information in the Document snippets provided with citations.\n",
        "Question: {search_query}\n",
        "{''.join(retrieved_data)}\n",
        "\"\"\"\n",
        "\n",
        "model = GenerativeModel(\"gemini-1.0-pro\")  # specify the gemini model version\n",
        "\n",
        "\n",
        "def generate(PROMPT_GEMINI: str) -> str:\n",
        "    \"\"\"\n",
        "    Given the prompt\n",
        "    output the summarized response to user's orginal query\n",
        "    \"\"\"\n",
        "    responses = model.generate_content(\n",
        "        PROMPT_GEMINI,\n",
        "        generation_config=generation_config,\n",
        "        safety_settings={\n",
        "            HarmCategory.HARM_CATEGORY_HATE_SPEECH: HarmBlockThreshold.BLOCK_MEDIUM_AND_ABOVE,\n",
        "            HarmCategory.HARM_CATEGORY_DANGEROUS_CONTENT: HarmBlockThreshold.BLOCK_MEDIUM_AND_ABOVE,\n",
        "            HarmCategory.HARM_CATEGORY_SEXUALLY_EXPLICIT: HarmBlockThreshold.BLOCK_MEDIUM_AND_ABOVE,\n",
        "            HarmCategory.HARM_CATEGORY_HARASSMENT: HarmBlockThreshold.BLOCK_MEDIUM_AND_ABOVE,\n",
        "        },\n",
        "        stream=True,\n",
        "    )\n",
        "\n",
        "    for response in responses:\n",
        "        print(response.text, end=\"\")\n",
        "\n",
        "\n",
        "print(f\"PROMPT:\\n{PROMPT_GEMINI}\")\n",
        "\n",
        "print(\"Gemini Response:\\n\")\n",
        "generate(PROMPT_GEMINI)"
      ]
    },
    {
      "cell_type": "code",
      "source": [],
      "metadata": {
        "id": "Jo0F5e1U5Ylk"
      },
      "id": "Jo0F5e1U5Ylk",
      "execution_count": null,
      "outputs": []
    }
  ],
  "metadata": {
    "environment": {
      "kernel": "python3",
      "name": "tf2-gpu.2-15.m118",
      "type": "gcloud",
      "uri": "us-docker.pkg.dev/deeplearning-platform-release/gcr.io/tf2-gpu.2-15:m118"
    },
    "kernelspec": {
      "display_name": "Python 3",
      "language": "python",
      "name": "python3"
    },
    "language_info": {
      "codemirror_mode": {
        "name": "ipython",
        "version": 3
      },
      "file_extension": ".py",
      "mimetype": "text/x-python",
      "name": "python",
      "nbconvert_exporter": "python",
      "pygments_lexer": "ipython3",
      "version": "3.11.7"
    },
    "colab": {
      "provenance": []
    }
  },
  "nbformat": 4,
  "nbformat_minor": 5
}