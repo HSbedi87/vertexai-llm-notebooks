{
 "cells": [
  {
   "cell_type": "code",
   "execution_count": 1,
   "metadata": {},
   "outputs": [],
   "source": [
    "# Copyright 2023 Google LLC\n",
    "#\n",
    "# Licensed under the Apache License, Version 2.0 (the \"License\");\n",
    "# you may not use this file except in compliance with the License.\n",
    "# You may obtain a copy of the License at\n",
    "#\n",
    "#     https://www.apache.org/licenses/LICENSE-2.0\n",
    "#\n",
    "# Unless required by applicable law or agreed to in writing, software\n",
    "# distributed under the License is distributed on an \"AS IS\" BASIS,\n",
    "# WITHOUT WARRANTIES OR CONDITIONS OF ANY KIND, either express or implied.\n",
    "# See the License for the specific language governing permissions and\n",
    "# limitations under the License."
   ]
  },
  {
   "cell_type": "markdown",
   "metadata": {
    "id": "koQRNJG_J5HQ"
   },
   "source": [
    "## Interact with SQLite database using natural language\n",
    "\n",
    "<table align=\"left\">\n",
    "\n",
    "  <td>\n",
    "    <a href=\"https://colab.research.google.com/github/GoogleCloudPlatform/generative-ai/blob/main/language/examples/prompt-design/interact_with_a_database_using_natural_language\">\n",
    "      <img src=\"https://cloud.google.com/ml-engine/images/colab-logo-32px.png\" alt=\"Colab logo\"> Run in Colab\n",
    "    </a>\n",
    "  </td>\n",
    "  <td>\n",
    "    <a href=\"https://github.com/GoogleCloudPlatform/generative-ai/blob/main/language/examples/prompt-design/interact_with_a_database_using_natural_language\">\n",
    "      <img src=\"https://cloud.google.com/ml-engine/images/github-logo-32px.png\" alt=\"GitHub logo\">\n",
    "      View on GitHub\n",
    "    </a>\n",
    "  </td>\n",
    "  <td>\n",
    "    <a href=\"https://console.cloud.google.com/vertex-ai/workbench/deploy-notebook?download_url=https://raw.githubusercontent.com/GoogleCloudPlatform/generative-ai/blob/main/language/examples/prompt-design/interact_with_a_database_using_natural_language\">\n",
    "      <img src=\"https://lh3.googleusercontent.com/UiNooY4LUgW_oTvpsNhPpQzsstV5W8F7rYgxgGBD85cWJoLmrOzhVs_ksK_vgx40SHs7jCqkTkCk=e14-rj-sc0xffffff-h130-w32\" alt=\"Vertex AI logo\">\n",
    "      Open in Vertex AI Workbench\n",
    "    </a>\n",
    "  </td>\n",
    "</table>"
   ]
  },
  {
   "cell_type": "markdown",
   "metadata": {
    "id": "ppkn4743IeSX"
   },
   "source": [
    "## Objective\n",
    "\n",
    "This notebook demonstrates how you use natural language text to generate sql queries and execute on a SQLite db.  Our goal is to show the art of the possible and by no means suggest running unvalidated queries on your database. :)"
   ]
  },
  {
   "cell_type": "code",
   "execution_count": null,
   "metadata": {
    "colab": {
     "base_uri": "https://localhost:8080/",
     "height": 818
    },
    "id": "EsfDh0Ow_85w",
    "outputId": "c0485daf-eeb6-41b9-8987-9e5048393153"
   },
   "outputs": [
    {
     "name": "stdout",
     "output_type": "stream",
     "text": [
      "Looking in indexes: https://pypi.org/simple, https://us-python.pkg.dev/colab-wheels/public/simple/\n",
      "Collecting google-cloud-aiplatform\n",
      "  Downloading google_cloud_aiplatform-1.25.0-py2.py3-none-any.whl (2.6 MB)\n",
      "\u001b[2K     \u001b[90m━━━━━━━━━━━━━━━━━━━━━━━━━━━━━━━━━━━━━━━━\u001b[0m \u001b[32m2.6/2.6 MB\u001b[0m \u001b[31m28.5 MB/s\u001b[0m eta \u001b[36m0:00:00\u001b[0m\n",
      "\u001b[?25hRequirement already satisfied: google-api-core[grpc]!=2.0.*,!=2.1.*,!=2.2.*,!=2.3.*,!=2.4.*,!=2.5.*,!=2.6.*,!=2.7.*,<3.0.0dev,>=1.32.0 in /usr/local/lib/python3.10/dist-packages (from google-cloud-aiplatform) (2.11.0)\n",
      "Requirement already satisfied: proto-plus<2.0.0dev,>=1.22.0 in /usr/local/lib/python3.10/dist-packages (from google-cloud-aiplatform) (1.22.2)\n",
      "Requirement already satisfied: protobuf!=3.20.0,!=3.20.1,!=4.21.0,!=4.21.1,!=4.21.2,!=4.21.3,!=4.21.4,!=4.21.5,<5.0.0dev,>=3.19.5 in /usr/local/lib/python3.10/dist-packages (from google-cloud-aiplatform) (3.20.3)\n",
      "Requirement already satisfied: packaging>=14.3 in /usr/local/lib/python3.10/dist-packages (from google-cloud-aiplatform) (23.1)\n",
      "Requirement already satisfied: google-cloud-storage<3.0.0dev,>=1.32.0 in /usr/local/lib/python3.10/dist-packages (from google-cloud-aiplatform) (2.8.0)\n",
      "Requirement already satisfied: google-cloud-bigquery<4.0.0dev,>=1.15.0 in /usr/local/lib/python3.10/dist-packages (from google-cloud-aiplatform) (3.9.0)\n",
      "Collecting google-cloud-resource-manager<3.0.0dev,>=1.3.3 (from google-cloud-aiplatform)\n",
      "  Downloading google_cloud_resource_manager-1.10.1-py2.py3-none-any.whl (321 kB)\n",
      "\u001b[2K     \u001b[90m━━━━━━━━━━━━━━━━━━━━━━━━━━━━━━━━━━━━━━\u001b[0m \u001b[32m321.3/321.3 kB\u001b[0m \u001b[31m34.9 MB/s\u001b[0m eta \u001b[36m0:00:00\u001b[0m\n",
      "\u001b[?25hCollecting shapely<2.0.0 (from google-cloud-aiplatform)\n",
      "  Downloading Shapely-1.8.5.post1-cp310-cp310-manylinux_2_12_x86_64.manylinux2010_x86_64.whl (2.0 MB)\n",
      "\u001b[2K     \u001b[90m━━━━━━━━━━━━━━━━━━━━━━━━━━━━━━━━━━━━━━━━\u001b[0m \u001b[32m2.0/2.0 MB\u001b[0m \u001b[31m99.0 MB/s\u001b[0m eta \u001b[36m0:00:00\u001b[0m\n",
      "\u001b[?25hRequirement already satisfied: googleapis-common-protos<2.0dev,>=1.56.2 in /usr/local/lib/python3.10/dist-packages (from google-api-core[grpc]!=2.0.*,!=2.1.*,!=2.2.*,!=2.3.*,!=2.4.*,!=2.5.*,!=2.6.*,!=2.7.*,<3.0.0dev,>=1.32.0->google-cloud-aiplatform) (1.59.0)\n",
      "Requirement already satisfied: google-auth<3.0dev,>=2.14.1 in /usr/local/lib/python3.10/dist-packages (from google-api-core[grpc]!=2.0.*,!=2.1.*,!=2.2.*,!=2.3.*,!=2.4.*,!=2.5.*,!=2.6.*,!=2.7.*,<3.0.0dev,>=1.32.0->google-cloud-aiplatform) (2.17.3)\n",
      "Requirement already satisfied: requests<3.0.0dev,>=2.18.0 in /usr/local/lib/python3.10/dist-packages (from google-api-core[grpc]!=2.0.*,!=2.1.*,!=2.2.*,!=2.3.*,!=2.4.*,!=2.5.*,!=2.6.*,!=2.7.*,<3.0.0dev,>=1.32.0->google-cloud-aiplatform) (2.27.1)\n",
      "Requirement already satisfied: grpcio<2.0dev,>=1.33.2 in /usr/local/lib/python3.10/dist-packages (from google-api-core[grpc]!=2.0.*,!=2.1.*,!=2.2.*,!=2.3.*,!=2.4.*,!=2.5.*,!=2.6.*,!=2.7.*,<3.0.0dev,>=1.32.0->google-cloud-aiplatform) (1.54.0)\n",
      "Requirement already satisfied: grpcio-status<2.0dev,>=1.33.2 in /usr/local/lib/python3.10/dist-packages (from google-api-core[grpc]!=2.0.*,!=2.1.*,!=2.2.*,!=2.3.*,!=2.4.*,!=2.5.*,!=2.6.*,!=2.7.*,<3.0.0dev,>=1.32.0->google-cloud-aiplatform) (1.48.2)\n",
      "Requirement already satisfied: google-cloud-core<3.0.0dev,>=1.6.0 in /usr/local/lib/python3.10/dist-packages (from google-cloud-bigquery<4.0.0dev,>=1.15.0->google-cloud-aiplatform) (2.3.2)\n",
      "Requirement already satisfied: google-resumable-media<3.0dev,>=0.6.0 in /usr/local/lib/python3.10/dist-packages (from google-cloud-bigquery<4.0.0dev,>=1.15.0->google-cloud-aiplatform) (2.5.0)\n",
      "Requirement already satisfied: python-dateutil<3.0dev,>=2.7.2 in /usr/local/lib/python3.10/dist-packages (from google-cloud-bigquery<4.0.0dev,>=1.15.0->google-cloud-aiplatform) (2.8.2)\n",
      "Collecting grpc-google-iam-v1<1.0.0dev,>=0.12.4 (from google-cloud-resource-manager<3.0.0dev,>=1.3.3->google-cloud-aiplatform)\n",
      "  Downloading grpc_google_iam_v1-0.12.6-py2.py3-none-any.whl (26 kB)\n",
      "Requirement already satisfied: cachetools<6.0,>=2.0.0 in /usr/local/lib/python3.10/dist-packages (from google-auth<3.0dev,>=2.14.1->google-api-core[grpc]!=2.0.*,!=2.1.*,!=2.2.*,!=2.3.*,!=2.4.*,!=2.5.*,!=2.6.*,!=2.7.*,<3.0.0dev,>=1.32.0->google-cloud-aiplatform) (5.3.0)\n",
      "Requirement already satisfied: pyasn1-modules>=0.2.1 in /usr/local/lib/python3.10/dist-packages (from google-auth<3.0dev,>=2.14.1->google-api-core[grpc]!=2.0.*,!=2.1.*,!=2.2.*,!=2.3.*,!=2.4.*,!=2.5.*,!=2.6.*,!=2.7.*,<3.0.0dev,>=1.32.0->google-cloud-aiplatform) (0.3.0)\n",
      "Requirement already satisfied: six>=1.9.0 in /usr/local/lib/python3.10/dist-packages (from google-auth<3.0dev,>=2.14.1->google-api-core[grpc]!=2.0.*,!=2.1.*,!=2.2.*,!=2.3.*,!=2.4.*,!=2.5.*,!=2.6.*,!=2.7.*,<3.0.0dev,>=1.32.0->google-cloud-aiplatform) (1.16.0)\n",
      "Requirement already satisfied: rsa<5,>=3.1.4 in /usr/local/lib/python3.10/dist-packages (from google-auth<3.0dev,>=2.14.1->google-api-core[grpc]!=2.0.*,!=2.1.*,!=2.2.*,!=2.3.*,!=2.4.*,!=2.5.*,!=2.6.*,!=2.7.*,<3.0.0dev,>=1.32.0->google-cloud-aiplatform) (4.9)\n",
      "Requirement already satisfied: google-crc32c<2.0dev,>=1.0 in /usr/local/lib/python3.10/dist-packages (from google-resumable-media<3.0dev,>=0.6.0->google-cloud-bigquery<4.0.0dev,>=1.15.0->google-cloud-aiplatform) (1.5.0)\n",
      "Requirement already satisfied: urllib3<1.27,>=1.21.1 in /usr/local/lib/python3.10/dist-packages (from requests<3.0.0dev,>=2.18.0->google-api-core[grpc]!=2.0.*,!=2.1.*,!=2.2.*,!=2.3.*,!=2.4.*,!=2.5.*,!=2.6.*,!=2.7.*,<3.0.0dev,>=1.32.0->google-cloud-aiplatform) (1.26.15)\n",
      "Requirement already satisfied: certifi>=2017.4.17 in /usr/local/lib/python3.10/dist-packages (from requests<3.0.0dev,>=2.18.0->google-api-core[grpc]!=2.0.*,!=2.1.*,!=2.2.*,!=2.3.*,!=2.4.*,!=2.5.*,!=2.6.*,!=2.7.*,<3.0.0dev,>=1.32.0->google-cloud-aiplatform) (2022.12.7)\n",
      "Requirement already satisfied: charset-normalizer~=2.0.0 in /usr/local/lib/python3.10/dist-packages (from requests<3.0.0dev,>=2.18.0->google-api-core[grpc]!=2.0.*,!=2.1.*,!=2.2.*,!=2.3.*,!=2.4.*,!=2.5.*,!=2.6.*,!=2.7.*,<3.0.0dev,>=1.32.0->google-cloud-aiplatform) (2.0.12)\n",
      "Requirement already satisfied: idna<4,>=2.5 in /usr/local/lib/python3.10/dist-packages (from requests<3.0.0dev,>=2.18.0->google-api-core[grpc]!=2.0.*,!=2.1.*,!=2.2.*,!=2.3.*,!=2.4.*,!=2.5.*,!=2.6.*,!=2.7.*,<3.0.0dev,>=1.32.0->google-cloud-aiplatform) (3.4)\n",
      "Requirement already satisfied: pyasn1<0.6.0,>=0.4.6 in /usr/local/lib/python3.10/dist-packages (from pyasn1-modules>=0.2.1->google-auth<3.0dev,>=2.14.1->google-api-core[grpc]!=2.0.*,!=2.1.*,!=2.2.*,!=2.3.*,!=2.4.*,!=2.5.*,!=2.6.*,!=2.7.*,<3.0.0dev,>=1.32.0->google-cloud-aiplatform) (0.5.0)\n",
      "Installing collected packages: shapely, grpc-google-iam-v1, google-cloud-resource-manager, google-cloud-aiplatform\n",
      "\u001b[33m  WARNING: The script tb-gcp-uploader is installed in '/root/.local/bin' which is not on PATH.\n",
      "  Consider adding this directory to PATH or, if you prefer to suppress this warning, use --no-warn-script-location.\u001b[0m\u001b[33m\n",
      "\u001b[0mSuccessfully installed google-cloud-aiplatform-1.25.0 google-cloud-resource-manager-1.10.1 grpc-google-iam-v1-0.12.6 shapely-1.8.5.post1\n"
     ]
    },
    {
     "data": {
      "application/vnd.colab-display-data+json": {
       "pip_warning": {
        "packages": [
         "google"
        ]
       }
      }
     },
     "metadata": {},
     "output_type": "display_data"
    }
   ],
   "source": [
    "!pip install google-cloud-aiplatform --upgrade --user"
   ]
  },
  {
   "cell_type": "code",
   "execution_count": 3,
   "metadata": {
    "id": "JdgitdgZ7Q26"
   },
   "outputs": [],
   "source": [
    "import sqlite3\n",
    "from datetime import datetime, timedelta\n",
    "import random\n",
    "from vertexai.preview.language_models import TextGenerationModel\n",
    "from google.cloud import aiplatform"
   ]
  },
  {
   "cell_type": "code",
   "execution_count": 4,
   "metadata": {
    "id": "iqeme_ji-baQ"
   },
   "outputs": [],
   "source": [
    "DATABASE = 'ecommerce.db'\n",
    "PROJECT_ID = \"\"\n",
    "LOCATION = \"us-central1\""
   ]
  },
  {
   "cell_type": "code",
   "execution_count": null,
   "metadata": {
    "id": "SxVq3SS4AKI_"
   },
   "outputs": [],
   "source": [
    "# Authenticate with Google Cloud credentials for Google colab\n",
    "from google.colab import auth as google_auth\n",
    "google_auth.authenticate_user()"
   ]
  },
  {
   "cell_type": "code",
   "execution_count": 5,
   "metadata": {
    "id": "51H8vZOrAZVq"
   },
   "outputs": [],
   "source": [
    "aiplatform.init(project=PROJECT_ID, location=LOCATION)"
   ]
  },
  {
   "cell_type": "markdown",
   "metadata": {
    "id": "c1dUnu4SKsbV"
   },
   "source": [
    "### 1. Create a dummy database and insert dummy records"
   ]
  },
  {
   "cell_type": "code",
   "execution_count": 6,
   "metadata": {
    "id": "WGbiR-NY-Jd1"
   },
   "outputs": [],
   "source": [
    "def create_db(database):\n",
    "\n",
    "    # Connect to the database (creates a new database if it doesn't exist)\n",
    "    conn = sqlite3.connect(database)\n",
    "\n",
    "    # Create a cursor object to execute SQL commands\n",
    "    cursor = conn.cursor()\n",
    "\n",
    "    # Create a table called \"users\"\n",
    "    cursor.execute('''\n",
    "        CREATE TABLE users (\n",
    "            id INTEGER PRIMARY KEY,\n",
    "            name TEXT,\n",
    "            age INTEGER,\n",
    "            email TEXT\n",
    "        )\n",
    "    ''')\n",
    "\n",
    "    # Create a table called \"products\"\n",
    "    cursor.execute('''\n",
    "        CREATE TABLE products (\n",
    "            id INTEGER PRIMARY KEY,\n",
    "            name TEXT,\n",
    "            price REAL\n",
    "        )\n",
    "    ''')\n",
    "\n",
    "    # Create a table called \"reviews\"\n",
    "    cursor.execute('''\n",
    "        CREATE TABLE reviews (\n",
    "            id INTEGER PRIMARY KEY,\n",
    "            product_id INTEGER,\n",
    "            user_id INTEGER,\n",
    "            rating INTEGER,\n",
    "            comment TEXT,\n",
    "            date_time TEXT,\n",
    "            FOREIGN KEY (product_id) REFERENCES products (id),\n",
    "            FOREIGN KEY (user_id) REFERENCES users (id)\n",
    "        )\n",
    "    ''')"
   ]
  },
  {
   "cell_type": "code",
   "execution_count": 7,
   "metadata": {
    "id": "Hu4KsvGg9p0y"
   },
   "outputs": [],
   "source": [
    "def insert_dummy_data(database):\n",
    "\n",
    "    conn = sqlite3.connect(database)\n",
    "    cursor = conn.cursor()\n",
    "\n",
    "    # Insert dummy data into the \"users\" table\n",
    "    users_data = [\n",
    "        (1, 'John Doe', 25, 'john@example.com'),\n",
    "        (2, 'Jane Smith', 32, 'jane@example.com'),\n",
    "        (3, 'Bob Johnson', 35, 'bob@example.com'),\n",
    "        (4, 'Badshah', 40, 'badshah@example.com')\n",
    "    ]\n",
    "    cursor.executemany('INSERT INTO users VALUES (?, ?, ?, ?)', users_data)\n",
    "\n",
    "    # Insert dummy data into the \"products\" table\n",
    "    products_data = [\n",
    "        (1, 'Product A', 9.99),\n",
    "        (2, 'Product B', 19.99),\n",
    "        (3, 'Product C', 14.99)\n",
    "    ]\n",
    "    cursor.executemany('INSERT INTO products VALUES (?, ?, ?)', products_data)\n",
    "\n",
    "    # Insert 10 reviews with random dates in 2023 into the \"reviews\" table\n",
    "    reviews_data = []\n",
    "    start_date = datetime(2022, 1, 1)\n",
    "    for i in range(1, 11):\n",
    "        review_id = i\n",
    "        product_id = random.randint(1, 3)\n",
    "        user_id = random.randint(1, 3)\n",
    "        rating = random.randint(1, 5)\n",
    "        comment = f\"Review {i}\"\n",
    "        random_days = random.randint(0, 364)\n",
    "        review_date = start_date + timedelta(days=random_days)\n",
    "        review_date_string = review_date.strftime('%Y-%m-%d %H:%M:%S')\n",
    "        review_data = (review_id, product_id, user_id, rating, comment, review_date_string)\n",
    "        reviews_data.append(review_data)\n",
    "\n",
    "    cursor.executemany('INSERT INTO reviews VALUES (?, ?, ?, ?, ?, ?)', reviews_data)\n",
    "\n",
    "    # Commit the changes and close the connection\n",
    "    conn.commit()\n",
    "    conn.close()"
   ]
  },
  {
   "cell_type": "code",
   "execution_count": 8,
   "metadata": {
    "id": "0w9sQTv9-pSM"
   },
   "outputs": [],
   "source": [
    "create_db(DATABASE)\n",
    "insert_dummy_data(DATABASE)"
   ]
  },
  {
   "cell_type": "code",
   "execution_count": 9,
   "metadata": {
    "id": "1jkv16xQ7c9x"
   },
   "outputs": [],
   "source": [
    "def query_db(database, query):\n",
    "\n",
    "    # Connect to the database (creates a new database if it doesn't exist)\n",
    "    conn = sqlite3.connect(database)\n",
    "    cursor = conn.cursor()\n",
    "    cursor.execute(query)\n",
    "    return cursor.fetchall()"
   ]
  },
  {
   "cell_type": "code",
   "execution_count": 10,
   "metadata": {
    "colab": {
     "base_uri": "https://localhost:8080/"
    },
    "id": "Hzn9_uwSBfxk",
    "outputId": "7d6f0847-a6c4-4675-919d-7e698b4db195"
   },
   "outputs": [
    {
     "data": {
      "text/plain": [
       "[(1, 'John Doe', 25, 'john@example.com'),\n",
       " (2, 'Jane Smith', 32, 'jane@example.com'),\n",
       " (3, 'Bob Johnson', 35, 'bob@example.com'),\n",
       " (4, 'Badshah', 40, 'badshah@example.com')]"
      ]
     },
     "execution_count": 10,
     "metadata": {},
     "output_type": "execute_result"
    }
   ],
   "source": [
    "# Execute a sample query on the DB.\n",
    "query_db(DATABASE, \"select * from users\")"
   ]
  },
  {
   "cell_type": "markdown",
   "metadata": {
    "id": "2LzBO9n0LHvD"
   },
   "source": [
    "### 2. Use Vertex AI text-bison@001 model to Generate SQL from natural language text."
   ]
  },
  {
   "cell_type": "code",
   "execution_count": 12,
   "metadata": {
    "id": "hmGbywaNA_0I"
   },
   "outputs": [],
   "source": [
    "def nl_to_sql(prompt):\n",
    "\n",
    "    model = TextGenerationModel.from_pretrained(\"text-bison@001\")\n",
    "    parameters = {\n",
    "        \"max_output_tokens\": 256,\n",
    "        \"temperature\": 0.1,\n",
    "        \"top_k\": 40,\n",
    "        \"top_p\": 0.8,\n",
    "    }\n",
    "    prompt=f'''\n",
    "    Provide sql queries for the question according to the table schema below.\n",
    "\n",
    "    Table: users\n",
    "\n",
    "    Columns:\n",
    "    id INTEGER PRIMARY KEY\n",
    "    name TEXT\n",
    "    age INTEGER,\n",
    "    email TEXT\n",
    "\n",
    "    Table: products\n",
    "\n",
    "    Columns:\n",
    "    id INTEGER PRIMARY KEY,\n",
    "    name TEXT,\n",
    "    price REAL\n",
    "\n",
    "    Table: reviews\n",
    "\n",
    "    Columns:\n",
    "    id INTEGER PRIMARY KEY\n",
    "    product_id INTEGER\n",
    "    user_id INTEGER\n",
    "    rating INTEGER\n",
    "    comment TEXT\n",
    "    date_time TEXT\n",
    "    FOREIGN KEY (product_id) REFERENCES products (id)\n",
    "    FOREIGN KEY (user_id) REFERENCES users (id)\n",
    "\n",
    "    Question: {prompt}\n",
    "\n",
    "    Query:\n",
    "    '''\n",
    "\n",
    "    model = TextGenerationModel.from_pretrained(\"text-bison@001\")\n",
    "    parameters = {\n",
    "        \"max_output_tokens\": 256,\n",
    "        \"temperature\": 0.1,\n",
    "        \"top_k\": 40,\n",
    "        \"top_p\": 0.8,\n",
    "    }\n",
    "\n",
    "    response = model.predict(\n",
    "        prompt=prompt,\n",
    "        **parameters)\n",
    "    return response"
   ]
  },
  {
   "cell_type": "code",
   "execution_count": 13,
   "metadata": {
    "colab": {
     "base_uri": "https://localhost:8080/",
     "height": 35
    },
    "id": "AdMQ6X0zBB0-",
    "outputId": "83aeb5f1-883c-4c4b-903c-6b07385b4f9a"
   },
   "outputs": [
    {
     "data": {
      "text/plain": [
       "'SELECT COUNT(*) FROM users'"
      ]
     },
     "execution_count": 13,
     "metadata": {},
     "output_type": "execute_result"
    }
   ],
   "source": [
    "# Test with a sample prompt\n",
    "prompt =\"Get count of all users\"\n",
    "sql_query = nl_to_sql(prompt)\n",
    "sql_query.text"
   ]
  },
  {
   "cell_type": "markdown",
   "metadata": {
    "id": "w-RS2QyfLsPg"
   },
   "source": [
    "### 3. Execute query on the DB and display results"
   ]
  },
  {
   "cell_type": "code",
   "execution_count": 14,
   "metadata": {
    "colab": {
     "base_uri": "https://localhost:8080/"
    },
    "id": "c7I31usoEP7M",
    "outputId": "dacd68e3-2308-4523-93ac-d814ef2605c7"
   },
   "outputs": [
    {
     "data": {
      "text/plain": [
       "[(4,)]"
      ]
     },
     "execution_count": 14,
     "metadata": {},
     "output_type": "execute_result"
    }
   ],
   "source": [
    "query_db(DATABASE, sql_query.text)"
   ]
  },
  {
   "cell_type": "markdown",
   "metadata": {
    "id": "eQzRYe8hL6lw"
   },
   "source": [
    "#### Lets try with more complex queries"
   ]
  },
  {
   "cell_type": "code",
   "execution_count": 15,
   "metadata": {
    "colab": {
     "base_uri": "https://localhost:8080/",
     "height": 35
    },
    "id": "pDg47oYBEq6m",
    "outputId": "10042e91-9473-4929-fb0f-8dc75f7f7bcb"
   },
   "outputs": [
    {
     "data": {
      "text/plain": [
       "'SELECT count(distinct user_id)\\n     FROM reviews;'"
      ]
     },
     "execution_count": 15,
     "metadata": {},
     "output_type": "execute_result"
    }
   ],
   "source": [
    "prompt =\"Get count of users who have written atleaset one review\"\n",
    "sql_query = nl_to_sql(prompt)\n",
    "sql_query.text"
   ]
  },
  {
   "cell_type": "code",
   "execution_count": 16,
   "metadata": {
    "colab": {
     "base_uri": "https://localhost:8080/"
    },
    "id": "o-aSkS7nFoJJ",
    "outputId": "c6c92c45-c14d-4fe7-9845-c0fd1b7d810f"
   },
   "outputs": [
    {
     "data": {
      "text/plain": [
       "[(3,)]"
      ]
     },
     "execution_count": 16,
     "metadata": {},
     "output_type": "execute_result"
    }
   ],
   "source": [
    "query_db(DATABASE, sql_query.text)"
   ]
  },
  {
   "cell_type": "code",
   "execution_count": 17,
   "metadata": {
    "colab": {
     "base_uri": "https://localhost:8080/",
     "height": 53
    },
    "id": "uGkgf_q9Fpgu",
    "outputId": "5af171a9-f41a-4c7c-c5b6-f42ace244a66"
   },
   "outputs": [
    {
     "data": {
      "text/plain": [
       "'SELECT products.name\\n    FROM products\\n    JOIN reviews ON products.id = reviews.product_id\\n    GROUP BY products.id\\n    ORDER BY AVG(reviews.rating) DESC\\n    LIMIT 1'"
      ]
     },
     "execution_count": 17,
     "metadata": {},
     "output_type": "execute_result"
    }
   ],
   "source": [
    "prompt =\"Get product with the highest average rating\"\n",
    "sql_query = nl_to_sql(prompt)\n",
    "sql_query.text"
   ]
  },
  {
   "cell_type": "code",
   "execution_count": 18,
   "metadata": {
    "colab": {
     "base_uri": "https://localhost:8080/"
    },
    "id": "HtuTfWg4FpqO",
    "outputId": "970d9435-03de-46de-ea68-2f370d972f0c"
   },
   "outputs": [
    {
     "data": {
      "text/plain": [
       "[('Product B',)]"
      ]
     },
     "execution_count": 18,
     "metadata": {},
     "output_type": "execute_result"
    }
   ],
   "source": [
    "query_db(DATABASE, sql_query.text)"
   ]
  },
  {
   "cell_type": "code",
   "execution_count": 19,
   "metadata": {
    "colab": {
     "base_uri": "https://localhost:8080/",
     "height": 35
    },
    "id": "hVyB1nyHGZ6D",
    "outputId": "69774f2a-d087-41d9-d823-bb6b3215d9bc"
   },
   "outputs": [
    {
     "data": {
      "text/plain": [
       "'SELECT products.name, reviews.date_time\\n     FROM reviews\\n     INNER JOIN products ON reviews.product_id = products.id\\n     ORDER BY reviews.date_time DESC\\n     LIMIT 1'"
      ]
     },
     "execution_count": 19,
     "metadata": {},
     "output_type": "execute_result"
    }
   ],
   "source": [
    "prompt =\"Get the product name, date for the most recent review\"\n",
    "sql_query = nl_to_sql(prompt)\n",
    "sql_query.text"
   ]
  },
  {
   "cell_type": "code",
   "execution_count": 20,
   "metadata": {
    "colab": {
     "base_uri": "https://localhost:8080/"
    },
    "id": "G27a8qAmGevB",
    "outputId": "788bce3c-7175-4d23-dd22-4f5fe761cfa8"
   },
   "outputs": [
    {
     "data": {
      "text/plain": [
       "[('Product C', '2022-12-22 00:00:00')]"
      ]
     },
     "execution_count": 20,
     "metadata": {},
     "output_type": "execute_result"
    }
   ],
   "source": [
    "query_db(DATABASE, sql_query.text)"
   ]
  },
  {
   "cell_type": "code",
   "execution_count": 21,
   "metadata": {
    "colab": {
     "base_uri": "https://localhost:8080/",
     "height": 35
    },
    "id": "cdn5MtAYGgJx",
    "outputId": "e1462e77-e918-450f-82e6-c10cb36343c2"
   },
   "outputs": [
    {
     "data": {
      "text/plain": [
       "'DROP TABLE reviews;'"
      ]
     },
     "execution_count": 21,
     "metadata": {},
     "output_type": "execute_result"
    }
   ],
   "source": [
    "prompt =\"Drop reviews table\"\n",
    "sql_query = nl_to_sql(prompt)\n",
    "sql_query.text"
   ]
  },
  {
   "cell_type": "markdown",
   "metadata": {
    "id": "UJ3hK9NDMsd7"
   },
   "source": [
    "#### If you had executed this query you could have risked data loss. Lets re-write prompt or using prompt engineering to reduce the likelihood of this happening."
   ]
  },
  {
   "cell_type": "markdown",
   "metadata": {
    "id": "yFEMb7mkNnC1"
   },
   "source": [
    "### 4. Let's try to update prompt to reduce likelihood of abuse."
   ]
  },
  {
   "cell_type": "code",
   "execution_count": 22,
   "metadata": {
    "id": "PdqLVNo6HSTd"
   },
   "outputs": [],
   "source": [
    "def nl_to_sql(prompt):\n",
    "\n",
    "    model = TextGenerationModel.from_pretrained(\"text-bison@001\")\n",
    "    parameters = {\n",
    "        \"max_output_tokens\": 256,\n",
    "        \"temperature\": 0.1,\n",
    "        \"top_k\": 40,\n",
    "        \"top_p\": 0.8,\n",
    "    }\n",
    "    prompt=f'''\n",
    "    Provide sql queries for the question according to the table schema below.\n",
    "\n",
    "    Table: users\n",
    "\n",
    "    Columns:\n",
    "    id INTEGER PRIMARY KEY\n",
    "    name TEXT\n",
    "    age INTEGER,\n",
    "    email TEXT\n",
    "\n",
    "    Table: products\n",
    "\n",
    "    Columns:\n",
    "    id INTEGER PRIMARY KEY,\n",
    "    name TEXT,\n",
    "    price REAL\n",
    "\n",
    "    Table: reviews\n",
    "\n",
    "    Columns:\n",
    "    id INTEGER PRIMARY KEY\n",
    "    product_id INTEGER\n",
    "    user_id INTEGER\n",
    "    rating INTEGER\n",
    "    comment TEXT\n",
    "    date_time TEXT\n",
    "    FOREIGN KEY (product_id) REFERENCES products (id)\n",
    "    FOREIGN KEY (user_id) REFERENCES users (id)\n",
    "\n",
    "    Remember you cannot respond with queries that modify record, drop or truncate tables instead reply with, Sorry i cannot help with that.\n",
    "\n",
    "    Question: {prompt}\n",
    "\n",
    "    Query:\n",
    "    '''\n",
    "\n",
    "    model = TextGenerationModel.from_pretrained(\"text-bison@001\")\n",
    "    parameters = {\n",
    "        \"max_output_tokens\": 256,\n",
    "        \"temperature\": 0.1,\n",
    "        \"top_k\": 40,\n",
    "        \"top_p\": 0.8,\n",
    "    }\n",
    "\n",
    "    response = model.predict(\n",
    "        prompt=prompt,\n",
    "        **parameters)\n",
    "    return response"
   ]
  },
  {
   "cell_type": "code",
   "execution_count": 23,
   "metadata": {
    "colab": {
     "base_uri": "https://localhost:8080/",
     "height": 35
    },
    "id": "Nl2zBlv8HiuO",
    "outputId": "9e918a1d-c1da-44f1-d6dd-4e7f5e0b1569"
   },
   "outputs": [
    {
     "data": {
      "text/plain": [
       "'Sorry i cannot help with that.'"
      ]
     },
     "execution_count": 23,
     "metadata": {},
     "output_type": "execute_result"
    }
   ],
   "source": [
    "prompt =\"Drop reviews table\"\n",
    "sql_query = nl_to_sql(prompt)\n",
    "sql_query.text"
   ]
  },
  {
   "cell_type": "code",
   "execution_count": 24,
   "metadata": {
    "colab": {
     "base_uri": "https://localhost:8080/",
     "height": 35
    },
    "id": "527sghZ9HjmH",
    "outputId": "08a9e80d-7f37-42b0-8e7f-4d01dd1546bb"
   },
   "outputs": [
    {
     "data": {
      "text/plain": [
       "'Sorry i cannot help with that.'"
      ]
     },
     "execution_count": 24,
     "metadata": {},
     "output_type": "execute_result"
    }
   ],
   "source": [
    "prompt =\"Update name of the user with id = 1 to test\"\n",
    "sql_query = nl_to_sql(prompt)\n",
    "sql_query.text"
   ]
  }
 ],
 "metadata": {
  "colab": {
   "provenance": []
  },
  "environment": {
   "kernel": "python3",
   "name": "common-cpu.m108",
   "type": "gcloud",
   "uri": "gcr.io/deeplearning-platform-release/base-cpu:m108"
  },
  "kernelspec": {
   "display_name": "Python 3",
   "language": "python",
   "name": "python3"
  },
  "language_info": {
   "codemirror_mode": {
    "name": "ipython",
    "version": 3
   },
   "file_extension": ".py",
   "mimetype": "text/x-python",
   "name": "python",
   "nbconvert_exporter": "python",
   "pygments_lexer": "ipython3",
   "version": "3.10.10"
  }
 },
 "nbformat": 4,
 "nbformat_minor": 4
}
